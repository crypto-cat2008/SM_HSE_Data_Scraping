{
 "cells": [
  {
   "cell_type": "markdown",
   "metadata": {},
   "source": [
    "# Wikipedia Edits"
   ]
  },
  {
   "cell_type": "markdown",
   "metadata": {},
   "source": [
    "## Week 6. Practice Programming Assignment 1"
   ]
  },
  {
   "cell_type": "markdown",
   "metadata": {},
   "source": [
    "Let's look at top-5 countries of the European Union by population. They are [Germany](https://en.wikipedia.org/w/index.php?title=Germany), [France](https://en.wikipedia.org/w/index.php?title=France), [Italy](https://en.wikipedia.org/w/index.php?title=Italy), [Spain](https://en.wikipedia.org/w/index.php?title=Spain), [Poland](https://en.wikipedia.org/w/index.php?title=Poland).\n",
    "\n",
    "\n",
    "In this assignment you are required to look at wikipedia pages of these countries. More specifically, at history of edits of the pages (Click on 'View History' at the top right when you are on wikipedia article page). You are free to use any scraping tools we have covered to answer the questions, that you will find below."
   ]
  },
  {
   "cell_type": "markdown",
   "metadata": {},
   "source": [
    "###### Import coursera grader tools"
   ]
  },
  {
   "cell_type": "code",
   "execution_count": 585,
   "metadata": {},
   "outputs": [],
   "source": [
    "import sys\n",
    "sys.path.append(\"..\")\n",
    "import grading\n",
    "grader = grading.Grader(assignment_key=\"Qjww7pPCR5uU7FGL3xV9tw\", \n",
    "                      all_parts=[\"XSHot\", \"dPTWK\", \"JquX6\", \"Yjvdq\", \"L53Sc\",\n",
    "                                 \"XUNG7\", \"hyfsg\", \"8S5EP\", \"ZNeVq\", \"GnJp7\"])"
   ]
  },
  {
   "cell_type": "code",
   "execution_count": 586,
   "metadata": {},
   "outputs": [],
   "source": [
    "# token expires every 30 min\n",
    "COURSERA_EMAIL = 'susanmalkin@gmail.com'\n",
    "COURSERA_TOKEN = 'YBUoNnEB1OzlhjAX'"
   ]
  },
  {
   "cell_type": "markdown",
   "metadata": {},
   "source": [
    "<br><br><br><br>"
   ]
  },
  {
   "cell_type": "markdown",
   "metadata": {},
   "source": [
    "### Coding part"
   ]
  },
  {
   "cell_type": "code",
   "execution_count": 587,
   "metadata": {},
   "outputs": [],
   "source": [
    "# you can start your web-scraping here\n",
    "\n",
    "import requests\n",
    "from bs4 import BeautifulSoup\n",
    "import datetime\n",
    "\n",
    "d1 = datetime.datetime(2019, 1, 1).date()\n",
    "d2 = datetime.datetime(2019, 12, 31).date()\n",
    "\n",
    "dates = dict()\n",
    "all_users = dict()"
   ]
  },
  {
   "cell_type": "code",
   "execution_count": 588,
   "metadata": {},
   "outputs": [],
   "source": [
    "def filter(tag):\n",
    "    classes = tag.get('class')\n",
    "    \n",
    "    if not classes:\n",
    "        return False\n",
    "    if 'mw-userlink' in classes or 'new mw-userlink' in classes:\n",
    "        return True\n",
    "    else:\n",
    "        return False"
   ]
  },
  {
   "cell_type": "code",
   "execution_count": 589,
   "metadata": {},
   "outputs": [],
   "source": [
    "Germany_url = 'https://en.wikipedia.org/w/index.php?title=Germany&limit=1500&action=history'\n",
    "France_url = 'https://en.wikipedia.org/w/index.php?title=France&offset=&limit=1500&action=history'\n",
    "Italy_url = 'https://en.wikipedia.org/w/index.php?title=Italy&offset=&limit=1600&action=history'\n",
    "Spain_url = 'https://en.wikipedia.org/w/index.php?title=Spain&offset=&limit=1500&action=history'\n",
    "Poland_url = 'https://en.wikipedia.org/w/index.php?title=Poland&offset=&limit=1700&action=history'\n",
    "\n",
    "countries = [Germany_url, France_url, Italy_url, Spain_url, Poland_url]"
   ]
  },
  {
   "cell_type": "code",
   "execution_count": 590,
   "metadata": {},
   "outputs": [
    {
     "name": "stdout",
     "output_type": "stream",
     "text": [
      "https://en.wikipedia.org/w/index.php?title=Germany&limit=1500&action=history\n",
      "296 135\n",
      "dates 138\n",
      "count_dt_updates 296\n",
      "https://en.wikipedia.org/w/index.php?title=France&offset=&limit=1500&action=history\n",
      "401 255\n",
      "dates 229\n",
      "count_dt_updates 697\n",
      "https://en.wikipedia.org/w/index.php?title=Italy&offset=&limit=1600&action=history\n",
      "601 352\n",
      "dates 301\n",
      "count_dt_updates 1298\n",
      "https://en.wikipedia.org/w/index.php?title=Spain&offset=&limit=1500&action=history\n",
      "375 425\n",
      "dates 321\n",
      "count_dt_updates 1673\n",
      "https://en.wikipedia.org/w/index.php?title=Poland&offset=&limit=1700&action=history\n",
      "530 480\n",
      "dates 340\n",
      "count_dt_updates 2203\n"
     ]
    }
   ],
   "source": [
    "for c in countries:\n",
    "    \n",
    "    print(c)\n",
    "    \n",
    "    response = requests.get(c)\n",
    "    assert response.status_code == 200\n",
    "\n",
    "    soup = BeautifulSoup(response.text)\n",
    "    count = 0\n",
    "\n",
    "    lis = soup.find_all('li')\n",
    "\n",
    "    for li in lis:\n",
    "\n",
    "        update_dates = li.select('a[class=\"mw-changeslist-date\"]')\n",
    "        users = li.find_all(filter)\n",
    "\n",
    "        if len(update_dates) > 0:\n",
    "            # print(update_dates, len(update_dates))\n",
    "\n",
    "            date_str = update_dates[0].text.split(',')[1].strip()\n",
    "            update_date = datetime.datetime.strptime(date_str, '%d %B %Y')\n",
    "\n",
    "            if update_date.date() >= d1 and update_date.date() <= d2:\n",
    "                count += 1\n",
    "                # print(update_date.date())\n",
    "\n",
    "                # print(users)\n",
    "                key = users[0].text\n",
    "\n",
    "                if all_users.get(key) != None:\n",
    "\n",
    "                    all_users[key] += 1\n",
    "                else:\n",
    "                    all_users[key] = 1\n",
    "                    \n",
    "                if dates.get(date_str) != None:\n",
    "\n",
    "                    dates[date_str] += 1\n",
    "                else:\n",
    "                    dates[date_str] = 1\n",
    "\n",
    "\n",
    "    print(count, len(all_users))\n",
    "    # print(all_users)\n",
    "\n",
    "    count_all_user_updates = 0\n",
    "    for k  in all_users:\n",
    "        count_all_user_updates += all_users[k]\n",
    "    # print(count_all_user_updates, max(all_users.values()))\n",
    "\n",
    "    new_ke_lis = list(all_users.keys())\n",
    "    new_val = list(all_users.values())\n",
    "\n",
    "    new_pos = new_val.index(max(all_users.values())) # value from dictionary\n",
    "    # print(max(all_users.values()), new_ke_lis[new_pos])\n",
    "    \n",
    "    print('dates', len(dates))\n",
    "    \n",
    "    count_dt_updates  = 0\n",
    "    for d in dates:\n",
    "        count_dt_updates += dates.get(d)\n",
    "        \n",
    "    print('count_dt_updates', count_dt_updates)\n",
    "        \n",
    "    \n"
   ]
  },
  {
   "cell_type": "code",
   "execution_count": null,
   "metadata": {},
   "outputs": [],
   "source": []
  },
  {
   "cell_type": "markdown",
   "metadata": {},
   "source": [
    "<br><br>\n",
    "\n",
    "### Questions\n",
    "\n",
    "<br><br>\n",
    "\n",
    "**Question 1.** How many edits overall were made on pages of all the countries in 2019? "
   ]
  },
  {
   "cell_type": "code",
   "execution_count": 591,
   "metadata": {},
   "outputs": [],
   "source": [
    "answer_part_1 = 296 + 401 + 601 + 375 + 530"
   ]
  },
  {
   "cell_type": "code",
   "execution_count": 592,
   "metadata": {},
   "outputs": [],
   "source": [
    "# Setting our answers to grader. Do not change!\n",
    "grader.set_answer(\"XSHot\", answer_part_1)"
   ]
  },
  {
   "cell_type": "markdown",
   "metadata": {},
   "source": [
    "<br>\n",
    "\n",
    "**Question 2.** What is the highest number of edits per country in 2019 among all countries present? "
   ]
  },
  {
   "cell_type": "code",
   "execution_count": 593,
   "metadata": {},
   "outputs": [],
   "source": [
    "answer_part_2 = 601"
   ]
  },
  {
   "cell_type": "code",
   "execution_count": 594,
   "metadata": {},
   "outputs": [],
   "source": [
    "# Setting our answers to grader. Do not change!\n",
    "grader.set_answer(\"dPTWK\", answer_part_2)"
   ]
  },
  {
   "cell_type": "markdown",
   "metadata": {},
   "source": [
    "<br>\n",
    "\n",
    "**Question 3.** What is the lowest number of edits per country in 2019 among all countries present? "
   ]
  },
  {
   "cell_type": "code",
   "execution_count": 595,
   "metadata": {},
   "outputs": [],
   "source": [
    "answer_part_3 = 296"
   ]
  },
  {
   "cell_type": "code",
   "execution_count": 596,
   "metadata": {},
   "outputs": [],
   "source": [
    "# Setting our answers to grader. Do not change!\n",
    "grader.set_answer(\"JquX6\", answer_part_3)"
   ]
  },
  {
   "cell_type": "markdown",
   "metadata": {},
   "source": [
    "<br>\n",
    "\n",
    "**Question 4.** How many users overall made edits on the countries' pages in 2019? "
   ]
  },
  {
   "cell_type": "code",
   "execution_count": 597,
   "metadata": {},
   "outputs": [],
   "source": [
    "answer_part_4 = 480"
   ]
  },
  {
   "cell_type": "code",
   "execution_count": 598,
   "metadata": {},
   "outputs": [],
   "source": [
    "# Setting our answers to grader. Do not change!\n",
    "grader.set_answer(\"Yjvdq\", answer_part_4)"
   ]
  },
  {
   "cell_type": "markdown",
   "metadata": {},
   "source": [
    "<br>\n",
    "\n",
    "**Question 5.** What is the highest number of users made edits on country's page among all countries present in 2019? "
   ]
  },
  {
   "cell_type": "code",
   "execution_count": 599,
   "metadata": {},
   "outputs": [],
   "source": [
    "answer_part_5 = 152"
   ]
  },
  {
   "cell_type": "code",
   "execution_count": 600,
   "metadata": {},
   "outputs": [],
   "source": [
    "# Setting our answers to grader. Do not change!\n",
    "grader.set_answer(\"L53Sc\", answer_part_5)"
   ]
  },
  {
   "cell_type": "markdown",
   "metadata": {},
   "source": [
    "<br><br>\n",
    "\n",
    "**Question 6.** What user made the most edits? "
   ]
  },
  {
   "cell_type": "code",
   "execution_count": 601,
   "metadata": {},
   "outputs": [],
   "source": [
    "answer_part_6 = 'Merangs'"
   ]
  },
  {
   "cell_type": "code",
   "execution_count": 602,
   "metadata": {},
   "outputs": [],
   "source": [
    "# Setting our answers to grader. Do not change!\n",
    "grader.set_answer(\"XUNG7\", answer_part_6)"
   ]
  },
  {
   "cell_type": "markdown",
   "metadata": {},
   "source": [
    "<br>\n",
    "\n",
    "**Question 7.** What is average number of edits per day in 2019? "
   ]
  },
  {
   "cell_type": "code",
   "execution_count": 612,
   "metadata": {},
   "outputs": [],
   "source": [
    "answer_part_7 = ( 296 + 401 + 601 + 375 + 530) / 365"
   ]
  },
  {
   "cell_type": "code",
   "execution_count": 613,
   "metadata": {},
   "outputs": [],
   "source": [
    "# Setting our answers to grader. Do not change!\n",
    "grader.set_answer(\"hyfsg\", answer_part_7)"
   ]
  },
  {
   "cell_type": "markdown",
   "metadata": {},
   "source": [
    "<br>\n",
    "\n",
    "**Question 8.** What is average number of edits per user in 2019? "
   ]
  },
  {
   "cell_type": "code",
   "execution_count": 614,
   "metadata": {},
   "outputs": [],
   "source": [
    "answer_part_8 = ( 296 + 401 + 601 + 375 + 530) / 480"
   ]
  },
  {
   "cell_type": "code",
   "execution_count": 615,
   "metadata": {},
   "outputs": [],
   "source": [
    "# Setting our answers to grader. Do not change!\n",
    "grader.set_answer(\"8S5EP\", answer_part_8)"
   ]
  },
  {
   "cell_type": "markdown",
   "metadata": {},
   "source": [
    "<br>\n",
    "\n",
    "**Question 9.** What is average number of edits per day in the country with most edits in 2019? "
   ]
  },
  {
   "cell_type": "code",
   "execution_count": 621,
   "metadata": {},
   "outputs": [],
   "source": [
    "answer_part_9 = 601/365"
   ]
  },
  {
   "cell_type": "code",
   "execution_count": 622,
   "metadata": {},
   "outputs": [],
   "source": [
    "# Setting our answers to grader. Do not change!\n",
    "grader.set_answer(\"ZNeVq\", answer_part_9)"
   ]
  },
  {
   "cell_type": "markdown",
   "metadata": {},
   "source": [
    "<br>\n",
    "\n",
    "**Question 10.** What is average number of edits per user in the country with most edits in 2019?"
   ]
  },
  {
   "cell_type": "code",
   "execution_count": 626,
   "metadata": {},
   "outputs": [],
   "source": [
    "answer_part_10 = 601/139"
   ]
  },
  {
   "cell_type": "code",
   "execution_count": 627,
   "metadata": {},
   "outputs": [],
   "source": [
    "# Setting our answers to grader. Do not change!\n",
    "grader.set_answer(\"GnJp7\", answer_part_10)"
   ]
  },
  {
   "cell_type": "markdown",
   "metadata": {},
   "source": [
    "<br>\n",
    "<br>\n",
    "\n",
    "### Submitting answers"
   ]
  },
  {
   "cell_type": "code",
   "execution_count": 628,
   "metadata": {},
   "outputs": [
    {
     "name": "stdout",
     "output_type": "stream",
     "text": [
      "Submitted to Coursera platform. See results on assignment page!\n"
     ]
    }
   ],
   "source": [
    "# you can make submission with answers so far to check yourself at this stage\n",
    "grader.submit(COURSERA_EMAIL, COURSERA_TOKEN)"
   ]
  },
  {
   "cell_type": "code",
   "execution_count": null,
   "metadata": {},
   "outputs": [],
   "source": []
  },
  {
   "cell_type": "code",
   "execution_count": null,
   "metadata": {},
   "outputs": [],
   "source": []
  },
  {
   "cell_type": "code",
   "execution_count": null,
   "metadata": {},
   "outputs": [],
   "source": []
  }
 ],
 "metadata": {
  "kernelspec": {
   "display_name": "Python 3",
   "language": "python",
   "name": "python3"
  },
  "language_info": {
   "codemirror_mode": {
    "name": "ipython",
    "version": 3
   },
   "file_extension": ".py",
   "mimetype": "text/x-python",
   "name": "python",
   "nbconvert_exporter": "python",
   "pygments_lexer": "ipython3",
   "version": "3.8.8"
  }
 },
 "nbformat": 4,
 "nbformat_minor": 4
}
