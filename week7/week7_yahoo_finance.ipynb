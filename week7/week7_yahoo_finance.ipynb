{
 "cells": [
  {
   "cell_type": "markdown",
   "metadata": {},
   "source": [
    "# Scraping Yahoo Finance"
   ]
  },
  {
   "cell_type": "markdown",
   "metadata": {},
   "source": [
    "## Week 7. Practice Programming Assignment 1"
   ]
  },
  {
   "cell_type": "markdown",
   "metadata": {},
   "source": [
    "In this assignment you are required to look at historical data for 30 companies from [Dow Jones Index](https://en.wikipedia.org/wiki/Dow_Jones_Industrial_Average). Tickers for companies from the index can be found in *dow_jones_tickers.txt*. For each company you should get historical daily stock prices for 2019 from https://finance.yahoo.com/, and then use the data to answer the questions you will find below. "
   ]
  },
  {
   "cell_type": "markdown",
   "metadata": {},
   "source": [
    "###### Import coursera grader tools"
   ]
  },
  {
   "cell_type": "code",
   "execution_count": 1,
   "metadata": {},
   "outputs": [],
   "source": [
    "import sys\n",
    "sys.path.append(\"..\")\n",
    "import grading\n",
    "grader = grading.Grader(assignment_key=\"FpZrXMbETcuStX7z6jFv2Q\", \n",
    "                      all_parts=[\"RbP2k\", \"LLRai\", \"hgIbw\", \"Tx3OG\", \"Y05pG\",\n",
    "                                 \"lFPeF\", \"htUtf\", \"Xri0I\", \"4JfUm\", \"oD7pP\"])"
   ]
  },
  {
   "cell_type": "code",
   "execution_count": 162,
   "metadata": {},
   "outputs": [],
   "source": [
    "# token expires every 30 min\n",
    "COURSERA_EMAIL = 'susanmalkin@gmail.com'\n",
    "COURSERA_TOKEN = 'GZF96IdkFBEaIKgM'"
   ]
  },
  {
   "cell_type": "markdown",
   "metadata": {},
   "source": [
    "<br><br><br><br>"
   ]
  },
  {
   "cell_type": "markdown",
   "metadata": {},
   "source": [
    "### Coding part"
   ]
  },
  {
   "cell_type": "code",
   "execution_count": 3,
   "metadata": {},
   "outputs": [],
   "source": [
    "# you can start your web-scraping here"
   ]
  },
  {
   "cell_type": "code",
   "execution_count": 4,
   "metadata": {},
   "outputs": [],
   "source": [
    "dow_jones_companies = []\n",
    "\n",
    "with open('dow_jones_tickers.txt') as f:\n",
    "    for ticker in f:\n",
    "        dow_jones_companies.append(ticker.strip())"
   ]
  },
  {
   "cell_type": "code",
   "execution_count": 5,
   "metadata": {},
   "outputs": [
    {
     "name": "stdout",
     "output_type": "stream",
     "text": [
      "['AXP', 'AAPL', 'BA', 'CAT', 'CSCO', 'CVX', 'XOM', 'GS', 'HD', 'IBM', 'INTC', 'JNJ', 'KO', 'JPM', 'MCD', 'MMM', 'MRK', 'MSFT', 'NKE', 'PFE', 'PG', 'TRV', 'UNH', 'RTX', 'VZ', 'V', 'WBA', 'WMT', 'DIS', 'DOW']\n"
     ]
    }
   ],
   "source": [
    "print(dow_jones_companies)"
   ]
  },
  {
   "cell_type": "code",
   "execution_count": 16,
   "metadata": {},
   "outputs": [],
   "source": [
    "import time\n",
    "from selenium import webdriver\n",
    "from selenium.webdriver.support.select import Select\n",
    "from selenium.webdriver.common.action_chains import ActionChains\n",
    "from selenium.webdriver.support import expected_conditions as EC\n",
    "from selenium.webdriver.common.keys import Keys\n",
    "from selenium.webdriver.support.ui import WebDriverWait\n",
    "from selenium.webdriver.common.by import By\n",
    "import datetime\n",
    "import pandas as pd"
   ]
  },
  {
   "cell_type": "code",
   "execution_count": 7,
   "metadata": {},
   "outputs": [],
   "source": [
    "data = []"
   ]
  },
  {
   "cell_type": "code",
   "execution_count": 10,
   "metadata": {},
   "outputs": [],
   "source": [
    "\n",
    "dow_jones_companies = ['BA', 'MCD', 'UNH', 'WBA', 'DIS']"
   ]
  },
  {
   "cell_type": "code",
   "execution_count": 11,
   "metadata": {},
   "outputs": [
    {
     "name": "stdout",
     "output_type": "stream",
     "text": [
      "BA 252\n",
      "MCD 252\n",
      "UNH 252\n",
      "WBA 252\n",
      "DIS 252\n"
     ]
    }
   ],
   "source": [
    "for company in dow_jones_companies:\n",
    "    \n",
    "    url = 'https://finance.yahoo.com/quote/' + company + '/history?p=' + company\n",
    "    driver = webdriver.Firefox()\n",
    "    driver.get(url)\n",
    "    driver.implicitly_wait(5)\n",
    "    \n",
    "    time_period = driver.find_elements_by_xpath(\"//span[starts-with(text(), 'Time Period')]\")\n",
    "    arrow_button = driver.find_element_by_xpath(\"//*[local-name()='svg' and @data-icon='CoreArrowDown']\")\n",
    "    arrow_button.click()\n",
    "    driver.implicitly_wait(5)\n",
    "    \n",
    "    if company == 'DOW':\n",
    "        \n",
    "        datefield = driver.find_element_by_xpath(\"//input[@name='startDate'][@type='date']\")\n",
    "        datefield.clear()\n",
    "        ActionChains(driver).move_to_element(datefield).perform()\n",
    "        ActionChains(driver).send_keys_to_element(datefield, '03212019').perform()\n",
    "\n",
    "        datefield = driver.find_element_by_xpath(\"//input[@name='endDate'][@type='date']\")\n",
    "        datefield.clear()\n",
    "        ActionChains(driver).move_to_element(datefield).perform()\n",
    "        ActionChains(driver).send_keys_to_element(datefield, '01012020').perform()\n",
    "    \n",
    "    else:\n",
    "    \n",
    "        datefield = driver.find_element_by_xpath(\"//input[@name='startDate'][@type='date']\")\n",
    "        datefield.clear()\n",
    "        ActionChains(driver).move_to_element(datefield).perform()\n",
    "        ActionChains(driver).send_keys_to_element(datefield, '01012019').perform()\n",
    "\n",
    "        datefield = driver.find_element_by_xpath(\"//input[@name='endDate'][@type='date']\")\n",
    "        datefield.clear()\n",
    "        ActionChains(driver).move_to_element(datefield).perform()\n",
    "        ActionChains(driver).send_keys_to_element(datefield, '01012020').perform()\n",
    "\n",
    "    driver.find_element_by_xpath(\"//span[text()='Done']\").click()\n",
    "    driver.implicitly_wait(3)\n",
    "    driver.find_element_by_xpath(\"//span[text()='Apply']\").click()\n",
    "    time.sleep(5)\n",
    "    \n",
    "    \n",
    "    i = 0\n",
    "    row_count = 0\n",
    "    \n",
    "    while True:\n",
    "            \n",
    "        # driver.execute_script(\"window.scrollTo(0, document.body.scrollHeight);\")   \n",
    "        driver.find_element_by_tag_name('html').send_keys([Keys.PAGE_DOWN for i in range(10)])\n",
    "        time.sleep(3)\n",
    "        i += 1\n",
    "        if i > 3:\n",
    "            for rows in driver.find_elements_by_xpath(\"//tr\"):\n",
    "\n",
    "                if '2019' in rows.text and 'Dividend' not in rows.text:\n",
    "                    record = []\n",
    "                    record.append(company)\n",
    "                    row_count += 1\n",
    "                    record.append(datetime.datetime.strptime(rows.text[0:12], '%b %d, %Y'))\n",
    "                    for d in rows.text[12:].split():\n",
    "                        try:\n",
    "                            record.append(float(d))\n",
    "                        except:\n",
    "                            record.append(int(d.replace(',','')))\n",
    "                        \n",
    "                    data.append(record)\n",
    "            break\n",
    "    \n",
    "    driver.quit()\n",
    "    print(company, row_count)"
   ]
  },
  {
   "cell_type": "code",
   "execution_count": 12,
   "metadata": {},
   "outputs": [
    {
     "name": "stdout",
     "output_type": "stream",
     "text": [
      "7506\n"
     ]
    }
   ],
   "source": [
    "print(len(data))\n"
   ]
  },
  {
   "cell_type": "code",
   "execution_count": 13,
   "metadata": {},
   "outputs": [],
   "source": [
    "data.append(['DOW', datetime.datetime(2019, 3, 20, 0, 0),52.75,53.50,49.50,49.79,43.39,2350800])"
   ]
  },
  {
   "cell_type": "code",
   "execution_count": 19,
   "metadata": {},
   "outputs": [],
   "source": [
    "df = pd.DataFrame(data)"
   ]
  },
  {
   "cell_type": "code",
   "execution_count": 32,
   "metadata": {},
   "outputs": [
    {
     "data": {
      "text/plain": [
       "29"
      ]
     },
     "execution_count": 32,
     "metadata": {},
     "output_type": "execute_result"
    }
   ],
   "source": [
    "df.rename(columns={0: 'company', 1: 'date', 2: 'open', 3: 'high', 4: 'low', 5: 'close', 6: 'adj_close', 7:'volume' }, inplace=True)\n",
    "year_end = df[df['date'] == '2019-12-31']\n",
    "year_start = df[df['date'] == '2019-01-02']"
   ]
  },
  {
   "cell_type": "code",
   "execution_count": 59,
   "metadata": {},
   "outputs": [
    {
     "data": {
      "text/plain": [
       "23.665016202328882"
      ]
     },
     "execution_count": 59,
     "metadata": {},
     "output_type": "execute_result"
    }
   ],
   "source": [
    "ann_prices = year_end.merge(year_start, on='company', how='outer')\n",
    "ann_prices.loc[24, 'open_y'] = 52.75\n",
    "ann_prices['ann_percent'] = ((ann_prices['close_x']/ann_prices['open_y'])-1)*100\n",
    "ann_prices['ann_percent'].mean()"
   ]
  },
  {
   "cell_type": "code",
   "execution_count": 83,
   "metadata": {},
   "outputs": [
    {
     "data": {
      "text/plain": [
       "company\n",
       "TRV       327765900\n",
       "GS        649800700\n",
       "MMM       692802900\n",
       "AXP       822191300\n",
       "MCD       835862100\n",
       "DOW       936749000\n",
       "IBM       990437937\n",
       "CAT      1028899700\n",
       "HD       1056470300\n",
       "UNH      1096118600\n",
       "RTX      1350333644\n",
       "BA       1354462300\n",
       "WBA      1442372900\n",
       "WMT      1522557600\n",
       "CVX      1592796900\n",
       "NKE      1613599100\n",
       "JNJ      1786792000\n",
       "V        1904911500\n",
       "PG       1907446100\n",
       "MRK      2574389785\n",
       "DIS      2574885500\n",
       "XOM      2928142100\n",
       "JPM      2965728900\n",
       "VZ       3230374100\n",
       "KO       3236708800\n",
       "CSCO     5172391400\n",
       "INTC     5519974300\n",
       "PFE      6053914076\n",
       "MSFT     6194410500\n",
       "AAPL    28254942800\n",
       "Name: volume, dtype: int64"
      ]
     },
     "execution_count": 83,
     "metadata": {},
     "output_type": "execute_result"
    }
   ],
   "source": [
    "df.groupby('company')['volume'].sum().sort_values()"
   ]
  },
  {
   "cell_type": "code",
   "execution_count": 91,
   "metadata": {},
   "outputs": [
    {
     "data": {
      "text/html": [
       "<div>\n",
       "<style scoped>\n",
       "    .dataframe tbody tr th:only-of-type {\n",
       "        vertical-align: middle;\n",
       "    }\n",
       "\n",
       "    .dataframe tbody tr th {\n",
       "        vertical-align: top;\n",
       "    }\n",
       "\n",
       "    .dataframe thead th {\n",
       "        text-align: right;\n",
       "    }\n",
       "</style>\n",
       "<table border=\"1\" class=\"dataframe\">\n",
       "  <thead>\n",
       "    <tr style=\"text-align: right;\">\n",
       "      <th></th>\n",
       "      <th>company</th>\n",
       "      <th>date</th>\n",
       "      <th>open</th>\n",
       "      <th>high</th>\n",
       "      <th>low</th>\n",
       "      <th>close</th>\n",
       "      <th>adj_close</th>\n",
       "      <th>volume</th>\n",
       "      <th>daily_change</th>\n",
       "    </tr>\n",
       "  </thead>\n",
       "  <tbody>\n",
       "    <tr>\n",
       "      <th>6929</th>\n",
       "      <td>UNH</td>\n",
       "      <td>2019-04-16</td>\n",
       "      <td>238.01</td>\n",
       "      <td>238.01</td>\n",
       "      <td>215.82</td>\n",
       "      <td>220.96</td>\n",
       "      <td>212.30</td>\n",
       "      <td>27361400</td>\n",
       "      <td>-7.163565</td>\n",
       "    </tr>\n",
       "    <tr>\n",
       "      <th>6296</th>\n",
       "      <td>BA</td>\n",
       "      <td>2019-10-18</td>\n",
       "      <td>369.00</td>\n",
       "      <td>369.35</td>\n",
       "      <td>344.00</td>\n",
       "      <td>344.00</td>\n",
       "      <td>339.98</td>\n",
       "      <td>13544300</td>\n",
       "      <td>-6.775068</td>\n",
       "    </tr>\n",
       "    <tr>\n",
       "      <th>7213</th>\n",
       "      <td>WBA</td>\n",
       "      <td>2019-03-01</td>\n",
       "      <td>70.85</td>\n",
       "      <td>71.18</td>\n",
       "      <td>66.08</td>\n",
       "      <td>66.61</td>\n",
       "      <td>59.93</td>\n",
       "      <td>10298900</td>\n",
       "      <td>-5.984474</td>\n",
       "    </tr>\n",
       "    <tr>\n",
       "      <th>6931</th>\n",
       "      <td>UNH</td>\n",
       "      <td>2019-04-12</td>\n",
       "      <td>236.50</td>\n",
       "      <td>236.78</td>\n",
       "      <td>220.77</td>\n",
       "      <td>223.22</td>\n",
       "      <td>214.47</td>\n",
       "      <td>13979400</td>\n",
       "      <td>-5.615222</td>\n",
       "    </tr>\n",
       "    <tr>\n",
       "      <th>7506</th>\n",
       "      <td>DOW</td>\n",
       "      <td>2019-03-20</td>\n",
       "      <td>52.75</td>\n",
       "      <td>53.50</td>\n",
       "      <td>49.50</td>\n",
       "      <td>49.79</td>\n",
       "      <td>43.39</td>\n",
       "      <td>2350800</td>\n",
       "      <td>-5.611374</td>\n",
       "    </tr>\n",
       "    <tr>\n",
       "      <th>...</th>\n",
       "      <td>...</td>\n",
       "      <td>...</td>\n",
       "      <td>...</td>\n",
       "      <td>...</td>\n",
       "      <td>...</td>\n",
       "      <td>...</td>\n",
       "      <td>...</td>\n",
       "      <td>...</td>\n",
       "      <td>...</td>\n",
       "    </tr>\n",
       "    <tr>\n",
       "      <th>1753</th>\n",
       "      <td>GS</td>\n",
       "      <td>2019-01-16</td>\n",
       "      <td>187.00</td>\n",
       "      <td>198.15</td>\n",
       "      <td>185.60</td>\n",
       "      <td>197.08</td>\n",
       "      <td>186.28</td>\n",
       "      <td>15194200</td>\n",
       "      <td>5.390374</td>\n",
       "    </tr>\n",
       "    <tr>\n",
       "      <th>6916</th>\n",
       "      <td>UNH</td>\n",
       "      <td>2019-05-06</td>\n",
       "      <td>228.17</td>\n",
       "      <td>240.57</td>\n",
       "      <td>227.50</td>\n",
       "      <td>240.50</td>\n",
       "      <td>231.07</td>\n",
       "      <td>7180200</td>\n",
       "      <td>5.403866</td>\n",
       "    </tr>\n",
       "    <tr>\n",
       "      <th>7081</th>\n",
       "      <td>WBA</td>\n",
       "      <td>2019-09-09</td>\n",
       "      <td>52.65</td>\n",
       "      <td>55.70</td>\n",
       "      <td>52.65</td>\n",
       "      <td>55.59</td>\n",
       "      <td>50.90</td>\n",
       "      <td>9416400</td>\n",
       "      <td>5.584046</td>\n",
       "    </tr>\n",
       "    <tr>\n",
       "      <th>7286</th>\n",
       "      <td>DIS</td>\n",
       "      <td>2019-11-13</td>\n",
       "      <td>138.58</td>\n",
       "      <td>149.92</td>\n",
       "      <td>136.84</td>\n",
       "      <td>148.72</td>\n",
       "      <td>147.83</td>\n",
       "      <td>45725400</td>\n",
       "      <td>7.317073</td>\n",
       "    </tr>\n",
       "    <tr>\n",
       "      <th>6451</th>\n",
       "      <td>BA</td>\n",
       "      <td>2019-03-11</td>\n",
       "      <td>371.27</td>\n",
       "      <td>402.67</td>\n",
       "      <td>365.55</td>\n",
       "      <td>400.01</td>\n",
       "      <td>390.64</td>\n",
       "      <td>34742200</td>\n",
       "      <td>7.740997</td>\n",
       "    </tr>\n",
       "  </tbody>\n",
       "</table>\n",
       "<p>7507 rows × 9 columns</p>\n",
       "</div>"
      ],
      "text/plain": [
       "     company       date    open    high     low   close  adj_close    volume  \\\n",
       "6929     UNH 2019-04-16  238.01  238.01  215.82  220.96     212.30  27361400   \n",
       "6296      BA 2019-10-18  369.00  369.35  344.00  344.00     339.98  13544300   \n",
       "7213     WBA 2019-03-01   70.85   71.18   66.08   66.61      59.93  10298900   \n",
       "6931     UNH 2019-04-12  236.50  236.78  220.77  223.22     214.47  13979400   \n",
       "7506     DOW 2019-03-20   52.75   53.50   49.50   49.79      43.39   2350800   \n",
       "...      ...        ...     ...     ...     ...     ...        ...       ...   \n",
       "1753      GS 2019-01-16  187.00  198.15  185.60  197.08     186.28  15194200   \n",
       "6916     UNH 2019-05-06  228.17  240.57  227.50  240.50     231.07   7180200   \n",
       "7081     WBA 2019-09-09   52.65   55.70   52.65   55.59      50.90   9416400   \n",
       "7286     DIS 2019-11-13  138.58  149.92  136.84  148.72     147.83  45725400   \n",
       "6451      BA 2019-03-11  371.27  402.67  365.55  400.01     390.64  34742200   \n",
       "\n",
       "      daily_change  \n",
       "6929     -7.163565  \n",
       "6296     -6.775068  \n",
       "7213     -5.984474  \n",
       "6931     -5.615222  \n",
       "7506     -5.611374  \n",
       "...            ...  \n",
       "1753      5.390374  \n",
       "6916      5.403866  \n",
       "7081      5.584046  \n",
       "7286      7.317073  \n",
       "6451      7.740997  \n",
       "\n",
       "[7507 rows x 9 columns]"
      ]
     },
     "execution_count": 91,
     "metadata": {},
     "output_type": "execute_result"
    }
   ],
   "source": [
    "df['daily_change'] = ((df['close']/df['open'])-1)*100\n",
    "df.sort_values('daily_change')"
   ]
  },
  {
   "cell_type": "code",
   "execution_count": 134,
   "metadata": {},
   "outputs": [
    {
     "data": {
      "text/html": [
       "<div>\n",
       "<style scoped>\n",
       "    .dataframe tbody tr th:only-of-type {\n",
       "        vertical-align: middle;\n",
       "    }\n",
       "\n",
       "    .dataframe tbody tr th {\n",
       "        vertical-align: top;\n",
       "    }\n",
       "\n",
       "    .dataframe thead th {\n",
       "        text-align: right;\n",
       "    }\n",
       "</style>\n",
       "<table border=\"1\" class=\"dataframe\">\n",
       "  <thead>\n",
       "    <tr style=\"text-align: right;\">\n",
       "      <th></th>\n",
       "      <th>company</th>\n",
       "      <th>date</th>\n",
       "      <th>open</th>\n",
       "      <th>high</th>\n",
       "      <th>low</th>\n",
       "      <th>close</th>\n",
       "      <th>adj_close</th>\n",
       "      <th>volume</th>\n",
       "      <th>daily_change</th>\n",
       "      <th>month</th>\n",
       "    </tr>\n",
       "  </thead>\n",
       "  <tbody>\n",
       "    <tr>\n",
       "      <th>0</th>\n",
       "      <td>AXP</td>\n",
       "      <td>2019-12-31</td>\n",
       "      <td>124.29</td>\n",
       "      <td>124.57</td>\n",
       "      <td>123.78</td>\n",
       "      <td>124.49</td>\n",
       "      <td>120.90</td>\n",
       "      <td>2340400</td>\n",
       "      <td>0.160914</td>\n",
       "      <td>12</td>\n",
       "    </tr>\n",
       "    <tr>\n",
       "      <th>1</th>\n",
       "      <td>AXP</td>\n",
       "      <td>2019-12-30</td>\n",
       "      <td>125.20</td>\n",
       "      <td>125.46</td>\n",
       "      <td>124.18</td>\n",
       "      <td>124.30</td>\n",
       "      <td>120.71</td>\n",
       "      <td>2306500</td>\n",
       "      <td>-0.718850</td>\n",
       "      <td>12</td>\n",
       "    </tr>\n",
       "    <tr>\n",
       "      <th>2</th>\n",
       "      <td>AXP</td>\n",
       "      <td>2019-12-27</td>\n",
       "      <td>125.84</td>\n",
       "      <td>125.97</td>\n",
       "      <td>125.11</td>\n",
       "      <td>125.19</td>\n",
       "      <td>121.58</td>\n",
       "      <td>1788600</td>\n",
       "      <td>-0.516529</td>\n",
       "      <td>12</td>\n",
       "    </tr>\n",
       "    <tr>\n",
       "      <th>3</th>\n",
       "      <td>AXP</td>\n",
       "      <td>2019-12-26</td>\n",
       "      <td>124.98</td>\n",
       "      <td>125.44</td>\n",
       "      <td>124.53</td>\n",
       "      <td>125.41</td>\n",
       "      <td>121.79</td>\n",
       "      <td>1486600</td>\n",
       "      <td>0.344055</td>\n",
       "      <td>12</td>\n",
       "    </tr>\n",
       "    <tr>\n",
       "      <th>4</th>\n",
       "      <td>AXP</td>\n",
       "      <td>2019-12-24</td>\n",
       "      <td>124.95</td>\n",
       "      <td>125.33</td>\n",
       "      <td>124.38</td>\n",
       "      <td>124.74</td>\n",
       "      <td>121.14</td>\n",
       "      <td>953500</td>\n",
       "      <td>-0.168067</td>\n",
       "      <td>12</td>\n",
       "    </tr>\n",
       "    <tr>\n",
       "      <th>...</th>\n",
       "      <td>...</td>\n",
       "      <td>...</td>\n",
       "      <td>...</td>\n",
       "      <td>...</td>\n",
       "      <td>...</td>\n",
       "      <td>...</td>\n",
       "      <td>...</td>\n",
       "      <td>...</td>\n",
       "      <td>...</td>\n",
       "      <td>...</td>\n",
       "    </tr>\n",
       "    <tr>\n",
       "      <th>7502</th>\n",
       "      <td>DIS</td>\n",
       "      <td>2019-01-07</td>\n",
       "      <td>109.91</td>\n",
       "      <td>111.40</td>\n",
       "      <td>109.30</td>\n",
       "      <td>110.56</td>\n",
       "      <td>109.23</td>\n",
       "      <td>6714700</td>\n",
       "      <td>0.591393</td>\n",
       "      <td>1</td>\n",
       "    </tr>\n",
       "    <tr>\n",
       "      <th>7503</th>\n",
       "      <td>DIS</td>\n",
       "      <td>2019-01-04</td>\n",
       "      <td>107.94</td>\n",
       "      <td>110.75</td>\n",
       "      <td>107.25</td>\n",
       "      <td>109.61</td>\n",
       "      <td>108.29</td>\n",
       "      <td>10122800</td>\n",
       "      <td>1.547156</td>\n",
       "      <td>1</td>\n",
       "    </tr>\n",
       "    <tr>\n",
       "      <th>7504</th>\n",
       "      <td>DIS</td>\n",
       "      <td>2019-01-03</td>\n",
       "      <td>108.48</td>\n",
       "      <td>108.65</td>\n",
       "      <td>105.94</td>\n",
       "      <td>106.33</td>\n",
       "      <td>105.05</td>\n",
       "      <td>10594700</td>\n",
       "      <td>-1.981932</td>\n",
       "      <td>1</td>\n",
       "    </tr>\n",
       "    <tr>\n",
       "      <th>7505</th>\n",
       "      <td>DIS</td>\n",
       "      <td>2019-01-02</td>\n",
       "      <td>108.10</td>\n",
       "      <td>109.14</td>\n",
       "      <td>107.73</td>\n",
       "      <td>108.97</td>\n",
       "      <td>107.65</td>\n",
       "      <td>9723500</td>\n",
       "      <td>0.804810</td>\n",
       "      <td>1</td>\n",
       "    </tr>\n",
       "    <tr>\n",
       "      <th>7506</th>\n",
       "      <td>DOW</td>\n",
       "      <td>2019-03-20</td>\n",
       "      <td>52.75</td>\n",
       "      <td>53.50</td>\n",
       "      <td>49.50</td>\n",
       "      <td>49.79</td>\n",
       "      <td>43.39</td>\n",
       "      <td>2350800</td>\n",
       "      <td>-5.611374</td>\n",
       "      <td>3</td>\n",
       "    </tr>\n",
       "  </tbody>\n",
       "</table>\n",
       "<p>7507 rows × 10 columns</p>\n",
       "</div>"
      ],
      "text/plain": [
       "     company       date    open    high     low   close  adj_close    volume  \\\n",
       "0        AXP 2019-12-31  124.29  124.57  123.78  124.49     120.90   2340400   \n",
       "1        AXP 2019-12-30  125.20  125.46  124.18  124.30     120.71   2306500   \n",
       "2        AXP 2019-12-27  125.84  125.97  125.11  125.19     121.58   1788600   \n",
       "3        AXP 2019-12-26  124.98  125.44  124.53  125.41     121.79   1486600   \n",
       "4        AXP 2019-12-24  124.95  125.33  124.38  124.74     121.14    953500   \n",
       "...      ...        ...     ...     ...     ...     ...        ...       ...   \n",
       "7502     DIS 2019-01-07  109.91  111.40  109.30  110.56     109.23   6714700   \n",
       "7503     DIS 2019-01-04  107.94  110.75  107.25  109.61     108.29  10122800   \n",
       "7504     DIS 2019-01-03  108.48  108.65  105.94  106.33     105.05  10594700   \n",
       "7505     DIS 2019-01-02  108.10  109.14  107.73  108.97     107.65   9723500   \n",
       "7506     DOW 2019-03-20   52.75   53.50   49.50   49.79      43.39   2350800   \n",
       "\n",
       "      daily_change  month  \n",
       "0         0.160914     12  \n",
       "1        -0.718850     12  \n",
       "2        -0.516529     12  \n",
       "3         0.344055     12  \n",
       "4        -0.168067     12  \n",
       "...            ...    ...  \n",
       "7502      0.591393      1  \n",
       "7503      1.547156      1  \n",
       "7504     -1.981932      1  \n",
       "7505      0.804810      1  \n",
       "7506     -5.611374      3  \n",
       "\n",
       "[7507 rows x 10 columns]"
      ]
     },
     "execution_count": 134,
     "metadata": {},
     "output_type": "execute_result"
    }
   ],
   "source": [
    "df['month'] = pd.DatetimeIndex(df['date']).month\n",
    "df"
   ]
  },
  {
   "cell_type": "code",
   "execution_count": 158,
   "metadata": {},
   "outputs": [
    {
     "data": {
      "text/plain": [
       "company  month\n",
       "DOW      5       -17.705033\n",
       "AAPL     5       -16.580903\n",
       "CSCO     8       -16.171203\n",
       "WBA      4       -15.704170\n",
       "MMM      5       -15.694760\n",
       "                    ...    \n",
       "DIS      11       15.718757\n",
       "IBM      1        20.013074\n",
       "GS       1        20.495345\n",
       "BA       1        21.958316\n",
       "DIS      4        22.743973\n",
       "Name: mon_per, Length: 358, dtype: float64"
      ]
     },
     "execution_count": 158,
     "metadata": {},
     "output_type": "execute_result"
    }
   ],
   "source": [
    "monthly_min = df.groupby(['company', 'month'])['date'].min()\n",
    "monthly_max = df.groupby(['company', 'month'])['date'].max()\n",
    "#monthly = monthly_min.to_frame().merge(monthly_max, on=['company','month'], how='inner')\n",
    "#monthly\n",
    "\n",
    "a = monthly_min.to_frame().merge(df, on=['company','date'], how='inner')\n",
    "b = monthly_max.to_frame().merge(df, on=['company','date'], how='inner')\n",
    "c = a.merge(b, on=['company', 'month'], how='inner')\n",
    "c['mon_per'] = ((c['close_y']/c['open_x'])-1)*100\n",
    "c.groupby(['company','month'])['mon_per'].min().sort_values()"
   ]
  },
  {
   "cell_type": "markdown",
   "metadata": {},
   "source": [
    "<br><br>\n",
    "\n",
    "### Questions\n",
    "\n",
    "<br><br>\n",
    "\n",
    "**Question 1.** What is the average change of price over the year (in %)?\n",
    "\n",
    "*Note 1*. The opening price is the price at which a stock first trades upon the opening of an exchange on a trading day.\n",
    "\n",
    "*Note 2*. The closing price for any stock is the final price at which it trades during regular market hours on any given day.\n",
    "\n",
    "*Note 3*. Here by the price change we going to mean a ratio of a closing price in the last day of the period to an opening price in the first day of that period, subtracted one and multiplied by 100.\n",
    "\n",
    "Example: if a price of a stock in day 1 opened at \\\\$100, and its close price in the last day was \\\\$120, then the price change during the period is: $$\\left(\\dfrac{120}{100}-1\\right) * 100 = (1.2 - 1) * 100=20.$$\n",
    "\n",
    "The price grew by 20%."
   ]
  },
  {
   "cell_type": "code",
   "execution_count": null,
   "metadata": {},
   "outputs": [],
   "source": []
  },
  {
   "cell_type": "code",
   "execution_count": 163,
   "metadata": {},
   "outputs": [],
   "source": [
    "answer_part_1 = 23.665016202328882"
   ]
  },
  {
   "cell_type": "code",
   "execution_count": 164,
   "metadata": {},
   "outputs": [],
   "source": [
    "# Setting our answers to grader. Do not change!\n",
    "grader.set_answer(\"RbP2k\", answer_part_1)"
   ]
  },
  {
   "cell_type": "markdown",
   "metadata": {},
   "source": [
    "<br>\n",
    "\n",
    "**Question 2.** What company's stock price grew the most (in %)? Enter ticker of the company as an answer)"
   ]
  },
  {
   "cell_type": "code",
   "execution_count": 165,
   "metadata": {},
   "outputs": [],
   "source": [
    "answer_part_2 = 'AAPL'"
   ]
  },
  {
   "cell_type": "code",
   "execution_count": 166,
   "metadata": {},
   "outputs": [],
   "source": [
    "# Setting our answers to grader. Do not change!\n",
    "grader.set_answer(\"LLRai\", answer_part_2)"
   ]
  },
  {
   "cell_type": "markdown",
   "metadata": {},
   "source": [
    "<br>\n",
    "\n",
    "**Question 3.** What company's stock lost in price the most (in %)? Enter ticker of the company as an answer"
   ]
  },
  {
   "cell_type": "code",
   "execution_count": 167,
   "metadata": {},
   "outputs": [],
   "source": [
    "answer_part_3 = 'WBA'"
   ]
  },
  {
   "cell_type": "code",
   "execution_count": 168,
   "metadata": {},
   "outputs": [],
   "source": [
    "# Setting our answers to grader. Do not change!\n",
    "grader.set_answer(\"hgIbw\", answer_part_3)"
   ]
  },
  {
   "cell_type": "markdown",
   "metadata": {},
   "source": [
    "<br>\n",
    "\n",
    "**Question 4.** What company had the largest summary volume over the year? Enter ticker of the company as an answer"
   ]
  },
  {
   "cell_type": "code",
   "execution_count": 169,
   "metadata": {},
   "outputs": [],
   "source": [
    "answer_part_4 = 'AAPL'"
   ]
  },
  {
   "cell_type": "code",
   "execution_count": 170,
   "metadata": {},
   "outputs": [],
   "source": [
    "# Setting our answers to grader. Do not change!\n",
    "grader.set_answer(\"Tx3OG\", answer_part_4)"
   ]
  },
  {
   "cell_type": "markdown",
   "metadata": {},
   "source": [
    "<br>\n",
    "\n",
    "**Question 5.** What is the biggest stock price daily increase (in %)? Enter the number "
   ]
  },
  {
   "cell_type": "code",
   "execution_count": 171,
   "metadata": {},
   "outputs": [],
   "source": [
    "answer_part_5 = 7.740997"
   ]
  },
  {
   "cell_type": "code",
   "execution_count": 172,
   "metadata": {},
   "outputs": [],
   "source": [
    "# Setting our answers to grader. Do not change!\n",
    "grader.set_answer(\"Y05pG\", answer_part_5)"
   ]
  },
  {
   "cell_type": "markdown",
   "metadata": {},
   "source": [
    "<br><br>\n",
    "\n",
    "**Question 6.** What is the company that had the biggest stock price daily increase? Enter ticker of the company as an answer"
   ]
  },
  {
   "cell_type": "code",
   "execution_count": 173,
   "metadata": {},
   "outputs": [],
   "source": [
    "answer_part_6 = 'BA'"
   ]
  },
  {
   "cell_type": "code",
   "execution_count": 174,
   "metadata": {},
   "outputs": [],
   "source": [
    "# Setting our answers to grader. Do not change!\n",
    "grader.set_answer(\"lFPeF\", answer_part_6)"
   ]
  },
  {
   "cell_type": "markdown",
   "metadata": {},
   "source": [
    "<br>\n",
    "\n",
    "**Question 7.** What is the biggest stock price daily decrease (in %)? Enter the number"
   ]
  },
  {
   "cell_type": "code",
   "execution_count": 175,
   "metadata": {},
   "outputs": [],
   "source": [
    "answer_part_7 = -7.163565"
   ]
  },
  {
   "cell_type": "code",
   "execution_count": 176,
   "metadata": {},
   "outputs": [],
   "source": [
    "# Setting our answers to grader. Do not change!\n",
    "grader.set_answer(\"htUtf\", answer_part_7)"
   ]
  },
  {
   "cell_type": "markdown",
   "metadata": {},
   "source": [
    "<br>\n",
    "\n",
    "**Question 8.** What is the company that had the biggest stock price daily decrese (in %)? Enter ticker of the company as an answer"
   ]
  },
  {
   "cell_type": "code",
   "execution_count": 177,
   "metadata": {},
   "outputs": [],
   "source": [
    "answer_part_8 = 'UNH'"
   ]
  },
  {
   "cell_type": "code",
   "execution_count": 178,
   "metadata": {},
   "outputs": [],
   "source": [
    "# Setting our answers to grader. Do not change!\n",
    "grader.set_answer(\"Xri0I\", answer_part_8)"
   ]
  },
  {
   "cell_type": "markdown",
   "metadata": {},
   "source": [
    "<br>\n",
    "\n",
    "**Question 9.** What was the best month for all companies (i.e. average monthly price increase was the best)? Enter one of the following: January, February, March, April, May, June, July, August, September, October, November, December"
   ]
  },
  {
   "cell_type": "code",
   "execution_count": 179,
   "metadata": {},
   "outputs": [],
   "source": [
    "answer_part_9 = 'January'"
   ]
  },
  {
   "cell_type": "code",
   "execution_count": 180,
   "metadata": {},
   "outputs": [],
   "source": [
    "# Setting our answers to grader. Do not change!\n",
    "grader.set_answer(\"4JfUm\", answer_part_9)"
   ]
  },
  {
   "cell_type": "markdown",
   "metadata": {},
   "source": [
    "<br>\n",
    "\n",
    "**Question 10.** What was the worst month for all companies (i.e. average monthly price increase was the worst)? Enter one of the following: January, February, March, April, May, June, July, August, September, October, November, December"
   ]
  },
  {
   "cell_type": "code",
   "execution_count": 181,
   "metadata": {},
   "outputs": [],
   "source": [
    "answer_part_10 = 'May'"
   ]
  },
  {
   "cell_type": "code",
   "execution_count": 182,
   "metadata": {},
   "outputs": [],
   "source": [
    "# Setting our answers to grader. Do not change!\n",
    "grader.set_answer(\"oD7pP\", answer_part_10)"
   ]
  },
  {
   "cell_type": "markdown",
   "metadata": {},
   "source": [
    "<br>\n",
    "<br>\n",
    "\n",
    "### Submitting answers"
   ]
  },
  {
   "cell_type": "code",
   "execution_count": 183,
   "metadata": {},
   "outputs": [
    {
     "name": "stdout",
     "output_type": "stream",
     "text": [
      "Submitted to Coursera platform. See results on assignment page!\n"
     ]
    }
   ],
   "source": [
    "# you can make submission with answers so far to check yourself at this stage\n",
    "grader.submit(COURSERA_EMAIL, COURSERA_TOKEN)"
   ]
  },
  {
   "cell_type": "code",
   "execution_count": null,
   "metadata": {},
   "outputs": [],
   "source": []
  },
  {
   "cell_type": "code",
   "execution_count": null,
   "metadata": {},
   "outputs": [],
   "source": []
  }
 ],
 "metadata": {
  "kernelspec": {
   "display_name": "Python 3",
   "language": "python",
   "name": "python3"
  },
  "language_info": {
   "codemirror_mode": {
    "name": "ipython",
    "version": 3
   },
   "file_extension": ".py",
   "mimetype": "text/x-python",
   "name": "python",
   "nbconvert_exporter": "python",
   "pygments_lexer": "ipython3",
   "version": "3.8.8"
  }
 },
 "nbformat": 4,
 "nbformat_minor": 4
}
