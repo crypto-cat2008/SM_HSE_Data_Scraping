{
 "cells": [
  {
   "cell_type": "markdown",
   "metadata": {},
   "source": [
    "# Playing with Encodings\n",
    "\n",
    "## Week 1. Practice Programming Assignment 1\n",
    "\n",
    "In this assignment we will check, that everything is set up so coursera graders work fine in programming assignments, and will practice python encoding functions a bit."
   ]
  },
  {
   "cell_type": "markdown",
   "metadata": {},
   "source": [
    "##### Import coursera grader tools"
   ]
  },
  {
   "cell_type": "code",
   "execution_count": 54,
   "metadata": {},
   "outputs": [],
   "source": [
    "import sys\n",
    "sys.path.append(\"..\")\n",
    "import grading\n",
    "grader = grading.Grader(assignment_key=\"BWTScac0SDGglNs7aK8CLA\", \n",
    "                      all_parts=[\"EsbZk\", \"j9e6W\", \"k2flq\", \"2kPZj\", \"RUDvM\"])"
   ]
  },
  {
   "cell_type": "code",
   "execution_count": 55,
   "metadata": {},
   "outputs": [],
   "source": [
    "# token expires every 30 min\n",
    "COURSERA_EMAIL = \"susanmalkin@gmail.com\"\n",
    "COURSERA_TOKEN = \"hOFq1ANNStSO2NKa\""
   ]
  },
  {
   "cell_type": "markdown",
   "metadata": {},
   "source": [
    "<br><br><br><br>"
   ]
  },
  {
   "cell_type": "markdown",
   "metadata": {},
   "source": [
    "### Part 1. Number conversion"
   ]
  },
  {
   "cell_type": "markdown",
   "metadata": {},
   "source": [
    "In this part you don't have to do anything but go through and submit an answer. Just checking that the grader works.\n",
    "\n",
    "<br><br>\n",
    "Let's look at a character 'h'."
   ]
  },
  {
   "cell_type": "code",
   "execution_count": 56,
   "metadata": {},
   "outputs": [
    {
     "data": {
      "text/plain": [
       "104"
      ]
     },
     "execution_count": 56,
     "metadata": {},
     "output_type": "execute_result"
    }
   ],
   "source": [
    "# we can find its code point number in decimal system\n",
    "ord('h')"
   ]
  },
  {
   "cell_type": "code",
   "execution_count": 57,
   "metadata": {},
   "outputs": [
    {
     "data": {
      "text/plain": [
       "'0x68'"
      ]
     },
     "execution_count": 57,
     "metadata": {},
     "output_type": "execute_result"
    }
   ],
   "source": [
    "# we can convert it into a hexadicmal form\n",
    "# remember, that '0x' is just a prefix, meaning that this is a hexadecimal form of a number\n",
    "hex(104)"
   ]
  },
  {
   "cell_type": "code",
   "execution_count": 58,
   "metadata": {},
   "outputs": [
    {
     "data": {
      "text/plain": [
       "104"
      ]
     },
     "execution_count": 58,
     "metadata": {},
     "output_type": "execute_result"
    }
   ],
   "source": [
    "# or we can conver it back to decimal\n",
    "int('68', 16)"
   ]
  },
  {
   "cell_type": "code",
   "execution_count": 59,
   "metadata": {},
   "outputs": [
    {
     "data": {
      "text/plain": [
       "'0b1101000'"
      ]
     },
     "execution_count": 59,
     "metadata": {},
     "output_type": "execute_result"
    }
   ],
   "source": [
    "# we can convert it into a binary form\n",
    "# remember, that '0b' is just a prefix, meaning that this is a binary form of a number\n",
    "bin(104)"
   ]
  },
  {
   "cell_type": "code",
   "execution_count": 60,
   "metadata": {},
   "outputs": [
    {
     "data": {
      "text/plain": [
       "104"
      ]
     },
     "execution_count": 60,
     "metadata": {},
     "output_type": "execute_result"
    }
   ],
   "source": [
    "# or back again\n",
    "int('1101000', 2)"
   ]
  },
  {
   "cell_type": "code",
   "execution_count": 61,
   "metadata": {},
   "outputs": [
    {
     "name": "stdout",
     "output_type": "stream",
     "text": [
      "h\n",
      "h\n",
      "h\n"
     ]
    }
   ],
   "source": [
    "# and we can print any character by its code point\n",
    "print('\\x68')\n",
    "print('\\u0068')\n",
    "print('\\U00000068')"
   ]
  },
  {
   "cell_type": "markdown",
   "metadata": {},
   "source": [
    "What is letter 'h' code point number in hexadecimal form?"
   ]
  },
  {
   "cell_type": "code",
   "execution_count": 62,
   "metadata": {},
   "outputs": [],
   "source": [
    "answer_part_1 = 68"
   ]
  },
  {
   "cell_type": "markdown",
   "metadata": {},
   "source": [
    "What is letter 'h' code point number in binary form?\n"
   ]
  },
  {
   "cell_type": "code",
   "execution_count": 63,
   "metadata": {},
   "outputs": [],
   "source": [
    "answer_part_2 = 2"
   ]
  },
  {
   "cell_type": "code",
   "execution_count": 64,
   "metadata": {},
   "outputs": [],
   "source": [
    "answer_part_2 = 1101000"
   ]
  },
  {
   "cell_type": "code",
   "execution_count": 65,
   "metadata": {},
   "outputs": [],
   "source": [
    "# Setting our answers to grader. Do not change!\n",
    "grader.set_answer(\"EsbZk\", answer_part_1)\n",
    "grader.set_answer(\"j9e6W\", answer_part_2)"
   ]
  },
  {
   "cell_type": "code",
   "execution_count": 66,
   "metadata": {},
   "outputs": [
    {
     "name": "stdout",
     "output_type": "stream",
     "text": [
      "Submitted to Coursera platform. See results on assignment page!\n"
     ]
    }
   ],
   "source": [
    "# you can make submission with answers so far to check yourself at this stage\n",
    "grader.submit(COURSERA_EMAIL, COURSERA_TOKEN)"
   ]
  },
  {
   "cell_type": "markdown",
   "metadata": {},
   "source": [
    "<br><br><br>\n",
    "### Part 2. Decoding secret messages"
   ]
  },
  {
   "cell_type": "markdown",
   "metadata": {},
   "source": [
    "In this part you are given several byte-strings. These are some messages encoded by some of the encodings covered in lectures. I suggest you to try different encodings to decode the messages until you will get some meaningful result. The results should be submited via grader."
   ]
  },
  {
   "cell_type": "markdown",
   "metadata": {},
   "source": [
    "<br>"
   ]
  },
  {
   "cell_type": "code",
   "execution_count": 67,
   "metadata": {},
   "outputs": [],
   "source": [
    "secret_message_1 = b'\\xff\\xfeY\\x00e\\x00a\\x00h\\x00s\\x00!\\x00 \\x00I\\x00 '\\\n",
    "                   b'\\x00d\\x00e\\x00c\\x00o\\x00d\\x00e\\x00d\\x00 \\x00t\\x00h\\x00e\\x00 '\\\n",
    "                   b'\\x00s\\x00e\\x00c\\x00r\\x00e\\x00t\\x00 \\x00m\\x00e\\x00s\\x00s\\x00a'\\\n",
    "                   b'\\x00g\\x00e\\x00'"
   ]
  },
  {
   "cell_type": "code",
   "execution_count": 68,
   "metadata": {},
   "outputs": [
    {
     "data": {
      "text/plain": [
       "'Yeahs! I decoded the secret message'"
      ]
     },
     "execution_count": 68,
     "metadata": {},
     "output_type": "execute_result"
    }
   ],
   "source": [
    "secret_message_1.decode('utf-16')"
   ]
  },
  {
   "cell_type": "code",
   "execution_count": 69,
   "metadata": {},
   "outputs": [],
   "source": [
    "# put decoded message here\n",
    "answer_part_3 = 'Yeahs! I decoded the secret message'"
   ]
  },
  {
   "cell_type": "code",
   "execution_count": 70,
   "metadata": {},
   "outputs": [],
   "source": [
    "# Setting our answers to grader. Do not change!\n",
    "grader.set_answer(\"k2flq\", answer_part_3)"
   ]
  },
  {
   "cell_type": "code",
   "execution_count": 71,
   "metadata": {},
   "outputs": [
    {
     "name": "stdout",
     "output_type": "stream",
     "text": [
      "Submitted to Coursera platform. See results on assignment page!\n"
     ]
    }
   ],
   "source": [
    "# you can make submission with answers so far to check yourself at this stage\n",
    "grader.submit(COURSERA_EMAIL, COURSERA_TOKEN)"
   ]
  },
  {
   "cell_type": "markdown",
   "metadata": {},
   "source": [
    "<br>"
   ]
  },
  {
   "cell_type": "code",
   "execution_count": 72,
   "metadata": {},
   "outputs": [],
   "source": [
    "secret_message_2 = b\"\\xff\\xfe\\x00\\x00T\\x00\\x00\\x00o\\x00\\x00\\x00 \"\\\n",
    "                   b\"\\x00\\x00\\x00d\\x00\\x00\\x00e\\x00\\x00\\x00c\\x00\"\\\n",
    "                   b\"\\x00\\x00o\\x00\\x00\\x00d\\x00\\x00\\x00e\\x00\\x00\"\\\n",
    "                   b\"\\x00 \\x00\\x00\\x00t\\x00\\x00\\x00h\\x00\\x00\\x00e\"\\\n",
    "                   b\"\\x00\\x00\\x00 \\x00\\x00\\x00t\\x00\\x00\\x00h\\x00\"\\\n",
    "                   b\"\\x00\\x00i\\x00\\x00\\x00r\\x00\\x00\\x00d\\x00\\x00\"\\\n",
    "                   b\"\\x00 \\x00\\x00\\x00s\\x00\\x00\\x00e\\x00\\x00\\x00c\"\\\n",
    "                   b\"\\x00\\x00\\x00r\\x00\\x00\\x00e\\x00\\x00\\x00t\\x00\\x00\"\\\n",
    "                   b\"\\x00 \\x00\\x00\\x00m\\x00\\x00\\x00e\\x00\\x00\\x00s\\x00\"\\\n",
    "                   b\"\\x00\\x00s\\x00\\x00\\x00a\\x00\\x00\\x00g\\x00\\x00\\x00e\\x00\"\\\n",
    "                   b\"\\x00\\x00 \\x00\\x00\\x00y\\x00\\x00\\x00o\\x00\\x00\\x00u\\x00\\x00\"\\\n",
    "                   b\"\\x00 \\x00\\x00\\x00s\\x00\\x00\\x00h\\x00\\x00\\x00o\\x00\\x00\\x00u\"\\\n",
    "                   b\"\\x00\\x00\\x00l\\x00\\x00\\x00d\\x00\\x00\\x00 \\x00\\x00\\x00u\\x00\\x00\"\\\n",
    "                   b\"\\x00s\\x00\\x00\\x00e\\x00\\x00\\x00 \\x00\\x00\\x00'\\x00\\x00\\x00s\\x00\"\\\n",
    "                   b\"\\x00\\x00h\\x00\\x00\\x00i\\x00\\x00\\x00f\\x00\\x00\\x00t\\x00\\x00\"\\\n",
    "                   b\"\\x00_\\x00\\x00\\x00j\\x00\\x00\\x00i\\x00\\x00\\x00s\\x00\\x00\"\\\n",
    "                   b\"\\x00'\\x00\\x00\\x00 \\x00\\x00\\x00e\\x00\\x00\\x00n\\x00\\x00\\x00c\\x00\"\\\n",
    "                   b\"\\x00\\x00o\\x00\\x00\\x00d\\x00\\x00\\x00i\\x00\\x00\\x00n\\x00\\x00\\x00g\\x00\\x00\\x00\""
   ]
  },
  {
   "cell_type": "code",
   "execution_count": 73,
   "metadata": {},
   "outputs": [
    {
     "data": {
      "text/plain": [
       "\"To decode the third secret message you should use 'shift_jis' encoding\""
      ]
     },
     "execution_count": 73,
     "metadata": {},
     "output_type": "execute_result"
    }
   ],
   "source": [
    "secret_message_2.decode('utf-32')"
   ]
  },
  {
   "cell_type": "code",
   "execution_count": 74,
   "metadata": {},
   "outputs": [],
   "source": [
    "# put decoded message here\n",
    "answer_part_4 = \"To decode the third secret message you should use 'shift_jis' encoding\""
   ]
  },
  {
   "cell_type": "code",
   "execution_count": 75,
   "metadata": {},
   "outputs": [],
   "source": [
    "# Setting our answers to grader. Do not change!\n",
    "grader.set_answer(\"2kPZj\", answer_part_4)"
   ]
  },
  {
   "cell_type": "code",
   "execution_count": 76,
   "metadata": {},
   "outputs": [
    {
     "name": "stdout",
     "output_type": "stream",
     "text": [
      "Submitted to Coursera platform. See results on assignment page!\n"
     ]
    }
   ],
   "source": [
    "# you can make submission with answers so far to check yourself at this stage\n",
    "grader.submit(COURSERA_EMAIL, COURSERA_TOKEN)"
   ]
  },
  {
   "cell_type": "markdown",
   "metadata": {},
   "source": [
    "<br>"
   ]
  },
  {
   "cell_type": "code",
   "execution_count": 77,
   "metadata": {},
   "outputs": [],
   "source": [
    "secret_message_3 = b'\\x83n\\x83\\x8d\\x81[\\x83\\x8f\\x81[\\x83\\x8b\\x83h'"
   ]
  },
  {
   "cell_type": "code",
   "execution_count": 83,
   "metadata": {},
   "outputs": [
    {
     "name": "stdout",
     "output_type": "stream",
     "text": [
      "charmap n[[h\n",
      "cp037 c>cýa$c±a$c»cÇ\n",
      "cp1006 n[[h\n",
      "cp1026 c>c`aİc±aİc»c[\n",
      "cp1125 ГnГНБ[ГПБ[ГЛГh\n",
      "cp1140 c>cýa$c±a$c»cÇ\n",
      "cp1251 ѓnѓЌЃ[ѓЏЃ[ѓ‹ѓh\n",
      "cp1256 ƒnƒچپ[ƒڈپ[ƒ‹ƒh\n",
      "cp273 c>cýa$c±a$c»cÇ\n",
      "cp437 ânâìü[âÅü[âïâh\n",
      "cp500 c>cýa$c±a$c»cÇ\n",
      "cp720 ânâ[â[âïâh\n",
      "cp737 ΔnΔΞΒ[ΔΠΒ[ΔΜΔh\n",
      "cp775 ānāŹü[āÅü[āŗāh\n",
      "cp850 ânâìü[âÅü[âïâh\n",
      "cp852 ânâŹü[âĆü[âőâh\n",
      "cp855 ЃnЃЇЂ[ЃЈЂ[ЃІЃh\n",
      "cp856 דnדםב[דןב[דכדh\n",
      "cp857 ânâıü[âÅü[âïâh\n",
      "cp858 ânâìü[âÅü[âïâh\n",
      "cp860 ânâìü[âÂü[âÍâh\n",
      "cp861 ânâÞü[âÅü[âÐâh\n",
      "cp862 דnדםב[דןב[דכדh\n",
      "cp863 ânâ‗ü[â§ü[âïâh\n",
      "cp864 √n√┌·[√┘·[√┴√h\n",
      "cp865 ânâìü[âÅü[âïâh\n",
      "cp866 ГnГНБ[ГПБ[ГЛГh\n",
      "cp875 c>cδa$cζa$cβcΪ\n",
      "cp932 ハローワールド\n",
      "gb18030 僴儘乕儚乕儖僪\n",
      "gbk 僴儘乕儚乕儖僪\n",
      "hp-roman8 n[[h\n",
      "iso8859-1 n[[h\n",
      "iso8859-10 n[[h\n",
      "iso8859-11 n[[h\n",
      "iso8859-13 n[[h\n",
      "iso8859-14 n[[h\n",
      "iso8859-15 n[[h\n",
      "iso8859-16 n[[h\n",
      "iso8859-2 n[[h\n",
      "iso8859-3 n[[h\n",
      "iso8859-4 n[[h\n",
      "iso8859-5 n[[h\n",
      "iso8859-6 n[[h\n",
      "iso8859-7 n[[h\n",
      "iso8859-8 n[[h\n",
      "iso8859-9 n[[h\n",
      "koi8-r ┐n┐█│[┐▐│[┐▀┐h\n",
      "koi8-u ┐n┐█│[┐▐│[┐▀┐h\n",
      "kz1048 ѓnѓҚЃ[ѓЏЃ[ѓ‹ѓh\n",
      "mac-arabic ÉnÉç [Éè [ÉںÉh\n",
      "mac-centeuro ÉnÉćĀ[ÉŹĀ[ÉčÉh\n",
      "mac-croatian ÉnÉçÅ[ÉèÅ[ÉãÉh\n",
      "mac-cyrillic ГnГНБ[ГПБ[ГЛГh\n",
      "mac-farsi ÉnÉç [Éè [ÉںÉh\n",
      "mac-greek ÉnÉç¹[Éè¹[É΄Éh\n",
      "mac-iceland ÉnÉçÅ[ÉèÅ[ÉãÉh\n",
      "mac-latin2 ÉnÉćĀ[ÉŹĀ[ÉčÉh\n",
      "mac-roman ÉnÉçÅ[ÉèÅ[ÉãÉh\n",
      "mac-romanian ÉnÉçÅ[ÉèÅ[ÉãÉh\n",
      "mac-turkish ÉnÉçÅ[ÉèÅ[ÉãÉh\n",
      "mbcs ƒnƒ[ƒ[ƒ‹ƒh\n",
      "oem ânâìü[âÅü[âïâh\n",
      "palmos ƒnƒ♦[ƒ♥[ƒ‹ƒh\n",
      "ptcp154 ғnғҚҒ[ғҸҒ[ғӢғh\n",
      "raw-unicode-escape n[[h\n",
      "shift_jis ハローワールド\n",
      "shift_jis_2004 ハローワールド\n",
      "shift_jisx0213 ハローワールド\n",
      "tis-620 n[[h\n",
      "unicode-escape n[[h\n",
      "unicode-internal 溃趃宁较宁讃梃\n",
      "utf-16 溃趃宁较宁讃梃\n",
      "utf-16-be 荮莍腛莏腛莋荨\n",
      "utf-16-le 溃趃宁较宁讃梃\n"
     ]
    },
    {
     "name": "stderr",
     "output_type": "stream",
     "text": [
      "C:\\SM\\Anaconda3\\envs\\data_scrapping\\lib\\site-packages\\ipykernel_launcher.py:31: DeprecationWarning: unicode_internal codec has been deprecated\n"
     ]
    },
    {
     "data": {
      "text/plain": [
       "'ハローワールド'"
      ]
     },
     "execution_count": 83,
     "metadata": {},
     "output_type": "execute_result"
    }
   ],
   "source": [
    "import encodings\n",
    "import pkgutil\n",
    "import pprint\n",
    "\n",
    "\n",
    "all_encodings = set()\n",
    "\n",
    "for _, modname, _ in pkgutil.iter_modules(\n",
    "        encodings.__path__, encodings.__name__ + '.',\n",
    "):\n",
    "    try:\n",
    "        mod = __import__(modname, fromlist=[str('__trash')])\n",
    "    except (ImportError, LookupError):\n",
    "        # A few encodings are platform specific: mcbs, cp65001\n",
    "        # print('skip {}'.format(modname))\n",
    "        pass\n",
    "\n",
    "    try:\n",
    "        all_encodings.add(mod.getregentry().name)\n",
    "    except AttributeError as e:\n",
    "        # the aliases module doensn't actually provide a codec\n",
    "        # print('skip {}'.format(modname))\n",
    "        if 'regentry' not in str(e):\n",
    "            raise\n",
    "\n",
    "sorted(all_encodings)\n",
    "secret_message_3 = b'\\x83n\\x83\\x8d\\x81[\\x83\\x8f\\x81[\\x83\\x8b\\x83h'\n",
    "\n",
    "for i in sorted(all_encodings):\n",
    "    try:\n",
    "        print(i, secret_message_3.decode(i))\n",
    "\n",
    "    except (Exception, DeprecationWarning) as e:\n",
    "        pass\n",
    "\n",
    "\n",
    "secret_message_3.decode('shift_jis', errors='surrogateescape')"
   ]
  },
  {
   "cell_type": "code",
   "execution_count": 84,
   "metadata": {},
   "outputs": [],
   "source": [
    "# put decoded message here\n",
    "answer_part_5 = 'ハローワールド'"
   ]
  },
  {
   "cell_type": "code",
   "execution_count": 85,
   "metadata": {},
   "outputs": [],
   "source": [
    "# Setting our answers to grader. Do not change!\n",
    "grader.set_answer(\"RUDvM\", answer_part_5)"
   ]
  },
  {
   "cell_type": "code",
   "execution_count": 86,
   "metadata": {},
   "outputs": [
    {
     "name": "stdout",
     "output_type": "stream",
     "text": [
      "Submitted to Coursera platform. See results on assignment page!\n"
     ]
    }
   ],
   "source": [
    "# you can make submission with answers so far to check yourself at this stage\n",
    "grader.submit(COURSERA_EMAIL, COURSERA_TOKEN)"
   ]
  },
  {
   "cell_type": "code",
   "execution_count": null,
   "metadata": {},
   "outputs": [],
   "source": []
  }
 ],
 "metadata": {
  "kernelspec": {
   "display_name": "Python 3 (ipykernel)",
   "language": "python",
   "name": "python3"
  },
  "language_info": {
   "codemirror_mode": {
    "name": "ipython",
    "version": 3
   },
   "file_extension": ".py",
   "mimetype": "text/x-python",
   "name": "python",
   "nbconvert_exporter": "python",
   "pygments_lexer": "ipython3",
   "version": "3.7.11"
  }
 },
 "nbformat": 4,
 "nbformat_minor": 4
}
