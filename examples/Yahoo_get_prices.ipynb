{
 "cells": [
  {
   "cell_type": "code",
   "execution_count": 8,
   "id": "164300ab",
   "metadata": {},
   "outputs": [],
   "source": [
    "import numpy as np\n",
    "import pandas as pd\n",
    "import requests\n",
    "from bs4 import BeautifulSoup\n",
    "\n",
    "def get_prices(ticker):\n",
    "    end = pd.Timestamp.now()\n",
    "    start = end - pd.Timedelta(31, 'D')\n",
    "    \n",
    "    period1 = (start - pd.Timestamp(\"1970-01-1\"))\\\n",
    "                    // pd.Timedelta('1s')\n",
    "    period2 = (end - pd.Timestamp(\"1970-01-1\"))\\\n",
    "                    // pd.Timedelta('1s')\n",
    "    \n",
    "    url = 'https://finance.yahoo.com/'\\\n",
    "            + f'quote/{ticker}/history?'\\\n",
    "            + f'period1={period1}&period2={period2}'\\\n",
    "            + '&interval=1d&filter=history&frequency=1d&includeAdjustedClose=true'\n",
    "    \n",
    "    print(url)\n",
    "    \n",
    "    response = requests.get(url)\n",
    "    print(response.status_code)\n",
    "    assert response.status_code == 200\n",
    "    \n",
    "    soup = BeautifulSoup(response.text)\n",
    "    prices = []\n",
    "    for row in soup.find_all('table',\n",
    "            attrs={'data-test': \n",
    "                   'historical-prices'})[0]\\\n",
    "                .find_all('tr')[1:-1]:\n",
    "        try:\n",
    "            prices.append(float(row.find_all('td')[1].text))\n",
    "        except:\n",
    "            pass\n",
    "    prices = prices[::-1]\n",
    "    prices = np.array(prices)\n",
    "    prices = ((prices / prices[0]) - 1) * 100\n",
    "    return prices"
   ]
  },
  {
   "cell_type": "code",
   "execution_count": 10,
   "id": "6b3f9fd7",
   "metadata": {},
   "outputs": [
    {
     "name": "stdout",
     "output_type": "stream",
     "text": [
      "404\n"
     ]
    }
   ],
   "source": [
    "url = 'https://finance.yahoo.com/quote/F/history?period1=1636110219&period2=1638788619&interval=1d&filter=history&frequency=1d&includeAdjustedClose=true'\n",
    "response = requests.get(url)\n",
    "print(response.status_code)\n"
   ]
  }
 ],
 "metadata": {
  "kernelspec": {
   "display_name": "Python 3",
   "language": "python",
   "name": "python3"
  },
  "language_info": {
   "codemirror_mode": {
    "name": "ipython",
    "version": 3
   },
   "file_extension": ".py",
   "mimetype": "text/x-python",
   "name": "python",
   "nbconvert_exporter": "python",
   "pygments_lexer": "ipython3",
   "version": "3.8.8"
  }
 },
 "nbformat": 4,
 "nbformat_minor": 5
}
