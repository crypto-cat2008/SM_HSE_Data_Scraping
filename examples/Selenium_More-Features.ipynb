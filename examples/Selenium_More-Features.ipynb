{
 "cells": [
  {
   "cell_type": "code",
   "execution_count": 13,
   "metadata": {},
   "outputs": [],
   "source": [
    "from selenium import webdriver\n",
    "import requests\n",
    "import re\n",
    "from bs4 import BeautifulSoup"
   ]
  },
  {
   "cell_type": "code",
   "execution_count": 14,
   "metadata": {},
   "outputs": [],
   "source": [
    "driver = webdriver.Firefox()"
   ]
  },
  {
   "cell_type": "code",
   "execution_count": 15,
   "metadata": {},
   "outputs": [],
   "source": [
    "driver.get('https://facebook.com')"
   ]
  },
  {
   "cell_type": "markdown",
   "metadata": {},
   "source": [
    "<br><br><br><br><br><br><br><br><br><br><br><br><br><br><br><br><br><br><br><br>\n",
    "### More on driver\n",
    "\n",
    "* More on webdriver\n",
    "    * navigation in browser\n",
    "        * driver.forward()\n",
    "        * driver.back()\n",
    "        * driver.window_handles\n",
    "            * driver.current_window_handle\n",
    "            * driver.switch_to.window\n",
    "            * driver.close()\n",
    "    * Cookies\n",
    "        * driver.add_cookie(...)\n",
    "        * driver.get_cookies()\n",
    "    * driver.save_screenshot('screenshot.png’)\n",
    "    * Executing JS\n",
    "        * driver.execute_script(\"window.scrollTo(0, document.body.scrollHeight);\")"
   ]
  },
  {
   "cell_type": "code",
   "execution_count": 16,
   "metadata": {},
   "outputs": [],
   "source": [
    "driver.get('https://en.wikipedia.org')"
   ]
  },
  {
   "cell_type": "code",
   "execution_count": 17,
   "metadata": {},
   "outputs": [],
   "source": [
    "driver.back()"
   ]
  },
  {
   "cell_type": "code",
   "execution_count": 20,
   "metadata": {},
   "outputs": [
    {
     "data": {
      "text/plain": [
       "['9ce4152c-d959-4d6f-adcf-f9c14e7c1e11']"
      ]
     },
     "execution_count": 20,
     "metadata": {},
     "output_type": "execute_result"
    }
   ],
   "source": [
    " driver.window_handles"
   ]
  },
  {
   "cell_type": "code",
   "execution_count": 22,
   "metadata": {},
   "outputs": [],
   "source": [
    "driver.switch_to.window('9ce4152c-d959-4d6f-adcf-f9c14e7c1e11')"
   ]
  },
  {
   "cell_type": "code",
   "execution_count": 23,
   "metadata": {},
   "outputs": [
    {
     "data": {
      "text/plain": [
       "[{'name': 'sb',\n",
       "  'value': 'seCbYa-Z9N1vnW0yzOVyyonN',\n",
       "  'path': '/',\n",
       "  'domain': '.facebook.com',\n",
       "  'secure': True,\n",
       "  'httpOnly': True,\n",
       "  'expiry': 1700677555,\n",
       "  'sameSite': 'None'},\n",
       " {'name': 'datr',\n",
       "  'value': 'seCbYcO2hJfqutYq7dRIOupg',\n",
       "  'path': '/',\n",
       "  'domain': '.facebook.com',\n",
       "  'secure': True,\n",
       "  'httpOnly': True,\n",
       "  'expiry': 1700677556,\n",
       "  'sameSite': 'None'},\n",
       " {'name': 'fr',\n",
       "  'value': '0NSoXVHQkxEGZ9zSR..Bhm-Cx.WW.AAA.0.0.Bhm-Cy.AWWOEvgTrxc',\n",
       "  'path': '/',\n",
       "  'domain': '.facebook.com',\n",
       "  'secure': True,\n",
       "  'httpOnly': True,\n",
       "  'expiry': 1645381555,\n",
       "  'sameSite': 'None'},\n",
       " {'name': 'wd',\n",
       "  'value': '1284x988',\n",
       "  'path': '/',\n",
       "  'domain': '.facebook.com',\n",
       "  'secure': True,\n",
       "  'httpOnly': False,\n",
       "  'expiry': 1638210357,\n",
       "  'sameSite': 'Lax'}]"
      ]
     },
     "execution_count": 23,
     "metadata": {},
     "output_type": "execute_result"
    }
   ],
   "source": [
    "driver.get_cookies()"
   ]
  },
  {
   "cell_type": "code",
   "execution_count": 24,
   "metadata": {},
   "outputs": [],
   "source": [
    "?driver.add_cookie"
   ]
  },
  {
   "cell_type": "code",
   "execution_count": 25,
   "metadata": {},
   "outputs": [
    {
     "data": {
      "text/plain": [
       "True"
      ]
     },
     "execution_count": 25,
     "metadata": {},
     "output_type": "execute_result"
    }
   ],
   "source": [
    "driver.save_screenshot('screenshot.png')"
   ]
  },
  {
   "cell_type": "code",
   "execution_count": 26,
   "metadata": {},
   "outputs": [],
   "source": [
    "driver.execute_script(\"window.scrollTo(0, document.body.scrollHeight);\") #JavaScript scroll to the bottom code"
   ]
  },
  {
   "cell_type": "markdown",
   "metadata": {},
   "source": [
    "<br><br><br><br><br><br><br><br><br><br><br><br><br><br><br><br><br><br><br><br>\n",
    "### By-locator types\n",
    "\n",
    "* By.ID\n",
    "    * `find_element_by_id(...)` == `find_element(By.ID, ...)`\n",
    "* By.XPATH\n",
    "    * `find_element_by_xpath(...)` == `find_element(By.XPATH, ...)`\n",
    "* By.NAME\n",
    "* By.TAG_NAME\n",
    "* By.CLASS_NAME\n",
    "* By.CSS_SELECTOR\n",
    "* By.LINK_TEXT\n",
    "* By.PARTIAL_LINK_TEXT"
   ]
  },
  {
   "cell_type": "code",
   "execution_count": 29,
   "metadata": {},
   "outputs": [],
   "source": [
    "#find_element(by.ID, 'content')"
   ]
  },
  {
   "cell_type": "code",
   "execution_count": 27,
   "metadata": {},
   "outputs": [],
   "source": [
    "driver.quit()"
   ]
  },
  {
   "cell_type": "code",
   "execution_count": null,
   "metadata": {},
   "outputs": [],
   "source": []
  }
 ],
 "metadata": {
  "kernelspec": {
   "display_name": "Python 3",
   "language": "python",
   "name": "python3"
  },
  "language_info": {
   "codemirror_mode": {
    "name": "ipython",
    "version": 3
   },
   "file_extension": ".py",
   "mimetype": "text/x-python",
   "name": "python",
   "nbconvert_exporter": "python",
   "pygments_lexer": "ipython3",
   "version": "3.8.8"
  }
 },
 "nbformat": 4,
 "nbformat_minor": 4
}
