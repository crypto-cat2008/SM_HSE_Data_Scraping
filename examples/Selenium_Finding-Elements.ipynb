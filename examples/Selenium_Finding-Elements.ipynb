{
 "cells": [
  {
   "cell_type": "code",
   "execution_count": 1,
   "metadata": {},
   "outputs": [],
   "source": [
    "from selenium import webdriver\n",
    "import requests\n",
    "import re\n",
    "from bs4 import BeautifulSoup"
   ]
  },
  {
   "cell_type": "markdown",
   "metadata": {},
   "source": [
    "<br><br><br>\n",
    "## finding 1 element"
   ]
  },
  {
   "cell_type": "markdown",
   "metadata": {},
   "source": [
    "* find_element_by_id\n",
    "* find_element_by_tag_name\n",
    "* find_element_by_name\n",
    "* find_element_by_xpath\n",
    "* find_element_by_link_text\n",
    "* find_element_by_partial_link_text\n",
    "* find_element_by_tag_name\n",
    "* find_element_by_class_name\n",
    "* find_element_by_css_selector\n",
    "* find_element\n",
    "\n",
    "\n",
    "WebElement returned or NoSuchElementException"
   ]
  },
  {
   "cell_type": "markdown",
   "metadata": {},
   "source": [
    "<br><br><br>\n",
    "## finding elements"
   ]
  },
  {
   "cell_type": "markdown",
   "metadata": {},
   "source": [
    "* find_elements_by_tag_name\n",
    "* find_elements_by_name\n",
    "* find_elements_by_xpath\n",
    "* find_elements_by_link_text\n",
    "* find_elements_by_partial_link_text\n",
    "* find_elements_by_tag_name\n",
    "* find_elements_by_class_name\n",
    "* find_elements_by_css_selector\n",
    "* find_elements"
   ]
  },
  {
   "cell_type": "code",
   "execution_count": 2,
   "metadata": {},
   "outputs": [],
   "source": [
    "url = 'https://en.wikipedia.org'"
   ]
  },
  {
   "cell_type": "code",
   "execution_count": 3,
   "metadata": {},
   "outputs": [],
   "source": [
    "driver = webdriver.Firefox()"
   ]
  },
  {
   "cell_type": "code",
   "execution_count": 4,
   "metadata": {},
   "outputs": [],
   "source": [
    "# !echo $PATH"
   ]
  },
  {
   "cell_type": "code",
   "execution_count": 5,
   "metadata": {},
   "outputs": [],
   "source": [
    "driver.get(url)"
   ]
  },
  {
   "cell_type": "code",
   "execution_count": 6,
   "metadata": {},
   "outputs": [],
   "source": [
    "result = driver.find_element_by_css_selector('h2')"
   ]
  },
  {
   "cell_type": "code",
   "execution_count": 7,
   "metadata": {},
   "outputs": [
    {
     "data": {
      "text/plain": [
       "selenium.webdriver.firefox.webelement.FirefoxWebElement"
      ]
     },
     "execution_count": 7,
     "metadata": {},
     "output_type": "execute_result"
    }
   ],
   "source": [
    "type(result)"
   ]
  },
  {
   "cell_type": "code",
   "execution_count": 8,
   "metadata": {},
   "outputs": [
    {
     "data": {
      "text/plain": [
       "\"From today's featured article\""
      ]
     },
     "execution_count": 8,
     "metadata": {},
     "output_type": "execute_result"
    }
   ],
   "source": [
    "result.text"
   ]
  },
  {
   "cell_type": "code",
   "execution_count": 9,
   "metadata": {},
   "outputs": [
    {
     "data": {
      "text/plain": [
       "'<span id=\"From_today.27s_featured_article\"></span><span class=\"mw-headline\" id=\"From_today\\'s_featured_article\">From today\\'s featured article</span>'"
      ]
     },
     "execution_count": 9,
     "metadata": {},
     "output_type": "execute_result"
    }
   ],
   "source": [
    "result.get_attribute('innerHTML')"
   ]
  },
  {
   "cell_type": "code",
   "execution_count": 10,
   "metadata": {},
   "outputs": [
    {
     "data": {
      "text/plain": [
       "'mp-tfa-h2'"
      ]
     },
     "execution_count": 10,
     "metadata": {},
     "output_type": "execute_result"
    }
   ],
   "source": [
    "result.get_attribute('id')"
   ]
  },
  {
   "cell_type": "code",
   "execution_count": 11,
   "metadata": {},
   "outputs": [
    {
     "data": {
      "text/plain": [
       "[<selenium.webdriver.firefox.webelement.FirefoxWebElement (session=\"44d8bf3c-291f-4bf1-a272-e2fee3506956\", element=\"90d9e0c8-4c6b-4c0f-b90f-af52f4925296\")>,\n",
       " <selenium.webdriver.firefox.webelement.FirefoxWebElement (session=\"44d8bf3c-291f-4bf1-a272-e2fee3506956\", element=\"9a2371e1-6201-4955-ac69-71fa3903eaba\")>]"
      ]
     },
     "execution_count": 11,
     "metadata": {},
     "output_type": "execute_result"
    }
   ],
   "source": [
    "result.find_elements_by_css_selector('span')"
   ]
  },
  {
   "cell_type": "code",
   "execution_count": 12,
   "metadata": {},
   "outputs": [
    {
     "data": {
      "text/plain": [
       "{'x': 210, 'y': 303}"
      ]
     },
     "execution_count": 12,
     "metadata": {},
     "output_type": "execute_result"
    }
   ],
   "source": [
    "result.location"
   ]
  },
  {
   "cell_type": "code",
   "execution_count": 13,
   "metadata": {},
   "outputs": [
    {
     "data": {
      "text/plain": [
       "True"
      ]
     },
     "execution_count": 13,
     "metadata": {},
     "output_type": "execute_result"
    }
   ],
   "source": [
    "result.screenshot('temp.png')"
   ]
  },
  {
   "cell_type": "markdown",
   "metadata": {},
   "source": [
    "<br><br><br>\n",
    "#### xpath\n",
    "\n",
    "* nodename selects all nodes with the name “nodename”;\n",
    "*  / selects from the root node;\n",
    "*  // can be used to skip multiple levels of nodes and search through all descendants to perform a selection;\n",
    "*  . selects the current node;\n",
    "*  .. selects the parent of the current node;\n",
    "*  @ selects attributes.\n",
    "* indexing"
   ]
  },
  {
   "cell_type": "code",
   "execution_count": 18,
   "metadata": {},
   "outputs": [],
   "source": [
    "results = driver.find_elements_by_xpath('/html/body/div')"
   ]
  },
  {
   "cell_type": "code",
   "execution_count": 19,
   "metadata": {},
   "outputs": [],
   "source": [
    "results = driver.find_elements_by_xpath(\"//div[@id='bodyContent']\")"
   ]
  },
  {
   "cell_type": "code",
   "execution_count": 23,
   "metadata": {},
   "outputs": [
    {
     "data": {
      "text/plain": [
       "'Jump to navigation\\nJump to search\\nWelcome to Wikipedia,\\nthe free encyclopedia that anyone can edit.\\n6,412,289 articles in English\\nThe arts\\nBiography\\nGeography\\nHistory\\nMathematics\\nScience\\nSociety\\nTechnology\\nAll portals\\nFrom today\\'s featured article\\nF. Scott Fitzgerald\\nThe Great Gatsby is a 1925 novel by American writer F. Scott Fitzgerald. Set in the Jazz Age on Long Island, near New York City, the novel depicts first-person narrator Nick Carraway\\'s interactions with mysterious millionaire Jay Gatsby and Gatsby\\'s obsession with his former lover, Daisy Buchanan. The book was inspired by a youthful romance Fitzgerald had with socialite Ginevra King, and the riotous parties he attended on Long Island\\'s North Shore in 1922. The Great Gatsby received favorable reviews but was a commercial disappointment, selling fewer than 20,000 copies in the first six months. At the time of the author\\'s death in 1940, he believed himself to be a failure and his work forgotten. During World War II, the novel surged in popularity when the Council on Books in Wartime distributed free copies to American soldiers serving overseas. This newfound popularity launched a critical re-examination, and now the book is widely considered to be a literary masterwork. (Full article...)\\nRecently featured: Cyclone Berguitta Harry F. Sinclair House Wii\\nArchive By email More featured articles\\nDid you know ...\\nLyndon B. Johnson taking the oath of office aboard Air Force One\\n... that Lyndon B. Johnson (pictured) delivered the \"Let Us Continue\" address five days after assuming the presidency upon the assassination of John F. Kennedy?\\n... that pushbacks of migrants in the Aegean Sea have been described as \"a human rights violation that encapsulates a will to eliminate a person\\'s presence on the face of the planet\"?\\n... that when Oregon journalist Larry Smyth was asked who he thought would win presidential elections, he invariably replied \"the man who gets the most votes\"?\\n... that the Central Khalsa Orphanage houses the first Guru Granth Sahib in braille?\\n... that Montana television station KOPR-TV brought forward its start date by several months, only to last just one year?\\n... that Esther Ze Naw, who appeared on the 2021 Time 100, was one of the few people in Myanmar who protested against Aung San Suu Kyi\\'s defence of the military at the International Court of Justice in December 2019?\\n... that Capitalism in America was shortlisted for the 2018 Financial Times and McKinsey Business Book of the Year Award?\\n... that Kitty Ponse successfully changed the sex of toads?\\nArchive Start a new article Nominate an article\\nIn the news\\nRumen Radev\\nIn Bulgaria, Rumen Radev (pictured) is re-elected President of Bulgaria.\\nIn rallying, Sébastien Ogier and Julien Ingrassia win the World Championship, and Toyota takes the manufacturers\\' title.\\nAbdalla Hamdok is reinstated as Prime Minister of Sudan in an agreement following the October coup.\\nKosmos 1408 is destroyed by a Russian anti-satellite weapon and becomes a cloud of space debris.\\nOngoing: Belarus–European Union border crisis COVID-19 pandemic\\nRecent deaths: Jay Last W. Sterling Cary Edgardo Labella Sam Huff Dzifa Attivor Young Dolph\\nNominate an article\\nOn this day\\nNovember 22: Feast day of Saint Cecilia (Christianity)\\nBlackbeard\\n1635 – Dutch colonial forces on Taiwan launched a three-month pacification campaign against the island\\'s indigenous peoples.\\n1718 – The pirate Blackbeard (pictured) was killed in battle by a boarding party of British sailors off the coast of the Province of North Carolina.\\n1908 – The Congress of Manastir standardized the Albanian alphabet, a date commemorated as Alphabet Day in Albania, Kosovo and North Macedonia.\\n1928 – Boléro, French composer Maurice Ravel\\'s most famous musical composition, premiered at the Paris Opéra.\\n1971 – In Britain\\'s worst mountaineering tragedy, the Cairngorm Plateau disaster, five teenage students and one of their leaders were found dead from exposure in the Scottish Highlands.\\nJoseph Frederick Wallet DesBarres (b. 1721)John Alsop (d. 1794)Mick Shann (b. 1917)\\nMore anniversaries: November 21 November 22 November 23\\nArchive By email List of days of the year\\nFrom today\\'s featured list\\nMap of counties in Wyoming\\nThere are 23 counties in the U.S. state of Wyoming. There were originally five counties in the Wyoming Territory: Laramie and Carter, established in 1867; Carbon and Albany, established in 1868; and Uinta, an annexed portion of Utah and Idaho, extending from Montana (including Yellowstone Park) to the Wyoming–Utah boundary. On July 10, 1890, Wyoming was admitted to the Union with thirteen counties in it. Ten more counties were created after statehood. Three counties were renamed after their creation: Carter County was renamed Sweetwater County on December 1, 1869; Hanover County existed for seven days in 1911 before it was renamed Washakie County; and Pease County, formed in 1875, was renamed Johnson County in 1879. (Full list...)\\nRecently featured: Cymru Premier Golden Boot Songs recorded by Bruno Mars Dinosaur genera\\nArchive More featured lists\\nToday\\'s featured picture\\nBaby Huwae (22 November 1939 – 5 June 1989) was an Indonesian model, film actress and singer. Born in Rotterdam, Netherlands, she moved to Indonesia, where she took up modelling, by the 1950s. She entered the film industry in 1958, and gained popularity following the success of Asrama Dara. Over the next few years, Huwae acted in a further five films and established a girl group, the Baby Dolls, with several actresses who had appeared in her second film. She made a guest appearance in one more film in 1971 after a ten-year hiatus.\\nPhotograph credit: Tati Photo Studio; restored by Chris Woodrich\\nRecently featured: Sainte-Chapelle de Vincennes Ruddy turnstone Alan Bean\\nArchive More featured pictures\\nOther areas of Wikipedia\\nCommunity portal – Bulletin board, projects, resources and activities covering a wide range of Wikipedia areas.\\nHelp desk – Ask questions about using Wikipedia.\\nReference desk – Serving as virtual librarians, Wikipedia volunteers tackle your questions on a wide range of subjects.\\nSite news – Announcements, updates, articles and press releases on Wikipedia and the Wikimedia Foundation.\\nTeahouse – To ask your first basic questions about contributing to Wikipedia.\\nVillage pump – For discussions about Wikipedia itself, including areas for technical issues and policies.\\nWikipedia\\'s sister projects\\nWikipedia is hosted by the Wikimedia Foundation, a non-profit organization that also hosts a range of other projects:\\nCommons\\nFree media repository\\nMediaWiki\\nWiki software development\\nMeta-Wiki\\nWikimedia project coordination\\nWikibooks\\nFree textbooks and manuals\\nWikidata\\nFree knowledge base\\nWikinews\\nFree-content news\\nWikiquote\\nCollection of quotations\\nWikisource\\nFree-content library\\nWikispecies\\nDirectory of species\\nWikiversity\\nFree learning tools\\nWikivoyage\\nFree travel guide\\nWiktionary\\nDictionary and thesaurus\\nWikipedia languages\\nThis Wikipedia is written in English. Many other Wikipedias are available; some of the largest are listed below.\\n1,000,000+ articles\\nالعربية Deutsch Español Français Italiano Nederlands 日本語 Polski Português Русский Svenska Українська Tiếng Việt 中文\\n250,000+ articles\\nBahasa Indonesia Bahasa Melayu Bân-lâm-gú Български Català Čeština Dansk Esperanto Euskara فارسی עברית 한국어 Magyar Norsk Bokmål Română Srpski Srpskohrvatski Suomi Türkçe\\n50,000+ articles\\nAsturianu Bosanski Eesti Ελληνικά Simple English Galego Hrvatski Latviešu Lietuvių മലയാളം Македонски Norsk nynorsk Shqip Slovenčina Slovenščina ไทย'"
      ]
     },
     "execution_count": 23,
     "metadata": {},
     "output_type": "execute_result"
    }
   ],
   "source": [
    "results[0].text"
   ]
  },
  {
   "cell_type": "code",
   "execution_count": 24,
   "metadata": {},
   "outputs": [
    {
     "data": {
      "text/plain": [
       "1"
      ]
     },
     "execution_count": 24,
     "metadata": {},
     "output_type": "execute_result"
    }
   ],
   "source": [
    "len(results)"
   ]
  },
  {
   "cell_type": "code",
   "execution_count": 25,
   "metadata": {},
   "outputs": [],
   "source": [
    "results = driver.find_elements_by_xpath(\"//span[text()=\\\"From today\\'s featured article\\\"]\")"
   ]
  },
  {
   "cell_type": "code",
   "execution_count": 26,
   "metadata": {},
   "outputs": [
    {
     "data": {
      "text/plain": [
       "\"From today's featured article\""
      ]
     },
     "execution_count": 26,
     "metadata": {},
     "output_type": "execute_result"
    }
   ],
   "source": [
    "results[0].text"
   ]
  },
  {
   "cell_type": "code",
   "execution_count": 27,
   "metadata": {},
   "outputs": [],
   "source": [
    "results = driver.find_elements_by_xpath(\"//span[starts-with(text(), 'From')]\")"
   ]
  },
  {
   "cell_type": "code",
   "execution_count": 28,
   "metadata": {},
   "outputs": [],
   "source": [
    "results = driver.find_element_by_xpath(\"//span[contains(text(), 'today')]\")"
   ]
  },
  {
   "cell_type": "code",
   "execution_count": 29,
   "metadata": {},
   "outputs": [],
   "source": [
    "results = driver.find_element_by_xpath(\"//div[contains(@id, 'body')]\")"
   ]
  },
  {
   "cell_type": "code",
   "execution_count": 30,
   "metadata": {},
   "outputs": [],
   "source": [
    "results = driver.find_element_by_xpath(\"//span[starts-with(text(), 'From') or contains(text(), 'today')]\")"
   ]
  },
  {
   "cell_type": "code",
   "execution_count": 31,
   "metadata": {},
   "outputs": [],
   "source": [
    "driver.quit()"
   ]
  },
  {
   "cell_type": "code",
   "execution_count": null,
   "metadata": {},
   "outputs": [],
   "source": []
  }
 ],
 "metadata": {
  "kernelspec": {
   "display_name": "Python 3",
   "language": "python",
   "name": "python3"
  },
  "language_info": {
   "codemirror_mode": {
    "name": "ipython",
    "version": 3
   },
   "file_extension": ".py",
   "mimetype": "text/x-python",
   "name": "python",
   "nbconvert_exporter": "python",
   "pygments_lexer": "ipython3",
   "version": "3.8.8"
  }
 },
 "nbformat": 4,
 "nbformat_minor": 4
}
