{
 "cells": [
  {
   "cell_type": "code",
   "execution_count": 1,
   "metadata": {},
   "outputs": [],
   "source": [
    "from selenium import webdriver\n",
    "import requests\n",
    "import re\n",
    "from bs4 import BeautifulSoup"
   ]
  },
  {
   "cell_type": "code",
   "execution_count": 2,
   "metadata": {},
   "outputs": [],
   "source": [
    "driver = webdriver.Firefox()"
   ]
  },
  {
   "cell_type": "code",
   "execution_count": 3,
   "metadata": {},
   "outputs": [
    {
     "data": {
      "text/plain": [
       "<bound method WebDriver.implicitly_wait of <selenium.webdriver.firefox.webdriver.WebDriver (session=\"924497ba-3045-490c-9862-352a2262f0a4\")>>"
      ]
     },
     "execution_count": 3,
     "metadata": {},
     "output_type": "execute_result"
    }
   ],
   "source": [
    "driver.implicitly_wait # can specify number of sec to wait"
   ]
  },
  {
   "cell_type": "markdown",
   "metadata": {},
   "source": [
    "<br><br><br><br><br><br><br><br><br><br><br><br><br><br><br><br><br><br><br><br>\n",
    "\n",
    "#### EC-conditions\n",
    "\n",
    "\n",
    "\n",
    "\n",
    "* `element_to_be_clickable(locator)`\n",
    "* `number_of_windows_to_be(num_windows)`\n",
    "* `presence_of_all_elements_located(locator)`\n",
    "* `staleness_of(element)`\n",
    "* `text_to_be_present_in_element(locator, text_)`\n",
    "* `text_to_be_present_in_element_value(locator, text_)`\n",
    "* `title_is(title)`\n",
    "* `url_to_be(url)`\n",
    "* `visibility_of(element)`\n",
    "* ...\n",
    "* for more see [doc](https://selenium-python.readthedocs.io/api.html#module-selenium.webdriver.support.expected_conditions)\n"
   ]
  },
  {
   "cell_type": "code",
   "execution_count": 4,
   "metadata": {},
   "outputs": [],
   "source": [
    "from selenium.webdriver.common.by import By\n",
    "from selenium.webdriver.support.ui import WebDriverWait\n",
    "from selenium.webdriver.support import expected_conditions as EC"
   ]
  },
  {
   "cell_type": "code",
   "execution_count": 5,
   "metadata": {},
   "outputs": [],
   "source": [
    "url = 'https://twitter.com/search?q=covid+stats'"
   ]
  },
  {
   "cell_type": "code",
   "execution_count": 6,
   "metadata": {},
   "outputs": [],
   "source": [
    "driver = webdriver.Firefox()"
   ]
  },
  {
   "cell_type": "code",
   "execution_count": 7,
   "metadata": {},
   "outputs": [],
   "source": [
    "driver.get(url)\n",
    "driver.implicitly_wait(3)\n",
    "elements = driver.find_elements_by_css_selector('article')"
   ]
  },
  {
   "cell_type": "code",
   "execution_count": 8,
   "metadata": {},
   "outputs": [],
   "source": [
    "elements = WebDriverWait(driver, 5).until(EC.presence_of_all_elements_located((By.CSS_SELECTOR, 'article')))"
   ]
  },
  {
   "cell_type": "code",
   "execution_count": 9,
   "metadata": {},
   "outputs": [],
   "source": [
    "class at_least_2_present(object):\n",
    "    def __init__(self, locator):\n",
    "        self.locator = locator\n",
    "        \n",
    "    def __call__(self, driver):\n",
    "        elements = driver.find_elements(*self.locator)\n",
    "        if len(elements) >= 2:\n",
    "            return elements\n",
    "        else:\n",
    "            return False"
   ]
  },
  {
   "cell_type": "code",
   "execution_count": 10,
   "metadata": {},
   "outputs": [],
   "source": [
    "elements = WebDriverWait(driver, 2).until(at_least_2_present((By.CSS_SELECTOR, 'article')))"
   ]
  },
  {
   "cell_type": "code",
   "execution_count": 11,
   "metadata": {},
   "outputs": [],
   "source": [
    "class at_least_n_present(object):\n",
    "    def __init__(self, locator, n):\n",
    "        self.locator = locator\n",
    "        self.n = n\n",
    "        \n",
    "    def __call__(self, driver):\n",
    "        elements = driver.find_elements(*self.locator)\n",
    "        if len(elements) >= self.n:\n",
    "            return elements\n",
    "        else:\n",
    "            return False"
   ]
  },
  {
   "cell_type": "code",
   "execution_count": 12,
   "metadata": {},
   "outputs": [],
   "source": [
    "elements = WebDriverWait(driver, 4).until(at_least_n_present((By.CSS_SELECTOR, 'article'), 5))"
   ]
  },
  {
   "cell_type": "code",
   "execution_count": 13,
   "metadata": {},
   "outputs": [
    {
     "data": {
      "text/plain": [
       "[<selenium.webdriver.firefox.webelement.FirefoxWebElement (session=\"49c83e6a-4e1b-45a3-bdb8-6cd28c8ea4ce\", element=\"3eea80c5-597c-4a6a-87ce-4a2499e768f1\")>,\n",
       " <selenium.webdriver.firefox.webelement.FirefoxWebElement (session=\"49c83e6a-4e1b-45a3-bdb8-6cd28c8ea4ce\", element=\"05c738cc-6f89-458c-9939-238126d44443\")>,\n",
       " <selenium.webdriver.firefox.webelement.FirefoxWebElement (session=\"49c83e6a-4e1b-45a3-bdb8-6cd28c8ea4ce\", element=\"d2408a95-6855-435d-af18-3fe49e7a9c1a\")>,\n",
       " <selenium.webdriver.firefox.webelement.FirefoxWebElement (session=\"49c83e6a-4e1b-45a3-bdb8-6cd28c8ea4ce\", element=\"128c6896-e623-4971-a793-d952aa084681\")>,\n",
       " <selenium.webdriver.firefox.webelement.FirefoxWebElement (session=\"49c83e6a-4e1b-45a3-bdb8-6cd28c8ea4ce\", element=\"417da9dc-80ad-4a36-a085-ce6a3b4b4f93\")>,\n",
       " <selenium.webdriver.firefox.webelement.FirefoxWebElement (session=\"49c83e6a-4e1b-45a3-bdb8-6cd28c8ea4ce\", element=\"bffc427a-6f4c-43ee-99b3-f4a847646f84\")>]"
      ]
     },
     "execution_count": 13,
     "metadata": {},
     "output_type": "execute_result"
    }
   ],
   "source": [
    "elements"
   ]
  },
  {
   "cell_type": "code",
   "execution_count": 14,
   "metadata": {},
   "outputs": [],
   "source": [
    "driver.quit()"
   ]
  },
  {
   "cell_type": "code",
   "execution_count": null,
   "metadata": {},
   "outputs": [],
   "source": []
  }
 ],
 "metadata": {
  "kernelspec": {
   "display_name": "Python 3",
   "language": "python",
   "name": "python3"
  },
  "language_info": {
   "codemirror_mode": {
    "name": "ipython",
    "version": 3
   },
   "file_extension": ".py",
   "mimetype": "text/x-python",
   "name": "python",
   "nbconvert_exporter": "python",
   "pygments_lexer": "ipython3",
   "version": "3.8.8"
  }
 },
 "nbformat": 4,
 "nbformat_minor": 4
}
