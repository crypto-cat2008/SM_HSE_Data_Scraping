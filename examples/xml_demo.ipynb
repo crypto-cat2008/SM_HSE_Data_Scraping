{
 "cells": [
  {
   "cell_type": "code",
   "execution_count": 1,
   "metadata": {},
   "outputs": [],
   "source": [
    "import xml.etree.ElementTree as ET"
   ]
  },
  {
   "cell_type": "code",
   "execution_count": 2,
   "metadata": {},
   "outputs": [],
   "source": [
    "xml_from_file = ET.parse('xml_example_1.xml')"
   ]
  },
  {
   "cell_type": "code",
   "execution_count": 3,
   "metadata": {},
   "outputs": [
    {
     "data": {
      "text/plain": [
       "xml.etree.ElementTree.ElementTree"
      ]
     },
     "execution_count": 3,
     "metadata": {},
     "output_type": "execute_result"
    }
   ],
   "source": [
    "type(xml_from_file)"
   ]
  },
  {
   "cell_type": "code",
   "execution_count": 4,
   "metadata": {},
   "outputs": [],
   "source": [
    "root = xml_from_file.getroot()"
   ]
  },
  {
   "cell_type": "code",
   "execution_count": 5,
   "metadata": {},
   "outputs": [
    {
     "data": {
      "text/plain": [
       "xml.etree.ElementTree.Element"
      ]
     },
     "execution_count": 5,
     "metadata": {},
     "output_type": "execute_result"
    }
   ],
   "source": [
    "type(root)"
   ]
  },
  {
   "cell_type": "code",
   "execution_count": 6,
   "metadata": {},
   "outputs": [],
   "source": [
    "xml_string = '''\n",
    "    <mail>\n",
    "      <to>Mark</to>\n",
    "      <from>Jani</from>\n",
    "      <heading>Reminder from Jani</heading>\n",
    "      <body>Hi, Mark! Remember we are meeting tomorrow at 5.</body>\n",
    "    </mail>\n",
    "    '''"
   ]
  },
  {
   "cell_type": "code",
   "execution_count": 7,
   "metadata": {},
   "outputs": [
    {
     "name": "stdout",
     "output_type": "stream",
     "text": [
      "\n",
      "    <mail>\n",
      "      <to>Mark</to>\n",
      "      <from>Jani</from>\n",
      "      <heading>Reminder from Jani</heading>\n",
      "      <body>Hi, Mark! Remember we are meeting tomorrow at 5.</body>\n",
      "    </mail>\n",
      "    \n"
     ]
    }
   ],
   "source": [
    "print(xml_string)"
   ]
  },
  {
   "cell_type": "code",
   "execution_count": 8,
   "metadata": {},
   "outputs": [],
   "source": [
    "xml_from_string = ET.fromstring(xml_string)"
   ]
  },
  {
   "cell_type": "code",
   "execution_count": 9,
   "metadata": {},
   "outputs": [
    {
     "data": {
      "text/plain": [
       "<Element 'mail' at 0x0000021508A8C548>"
      ]
     },
     "execution_count": 9,
     "metadata": {},
     "output_type": "execute_result"
    }
   ],
   "source": [
    "xml_from_string"
   ]
  },
  {
   "cell_type": "code",
   "execution_count": 10,
   "metadata": {},
   "outputs": [
    {
     "data": {
      "text/plain": [
       "{}"
      ]
     },
     "execution_count": 10,
     "metadata": {},
     "output_type": "execute_result"
    }
   ],
   "source": [
    "root.attrib"
   ]
  },
  {
   "cell_type": "code",
   "execution_count": 11,
   "metadata": {},
   "outputs": [
    {
     "data": {
      "text/plain": [
       "4"
      ]
     },
     "execution_count": 11,
     "metadata": {},
     "output_type": "execute_result"
    }
   ],
   "source": [
    "len(root)"
   ]
  },
  {
   "cell_type": "code",
   "execution_count": 12,
   "metadata": {},
   "outputs": [
    {
     "name": "stdout",
     "output_type": "stream",
     "text": [
      "to {}\n",
      "from {}\n",
      "heading {}\n",
      "body {}\n"
     ]
    }
   ],
   "source": [
    "for child in root:\n",
    "    print(child.tag, child.attrib)"
   ]
  },
  {
   "cell_type": "code",
   "execution_count": 13,
   "metadata": {},
   "outputs": [
    {
     "data": {
      "text/plain": [
       "'Reminder from Jani'"
      ]
     },
     "execution_count": 13,
     "metadata": {},
     "output_type": "execute_result"
    }
   ],
   "source": [
    "root[2].text"
   ]
  },
  {
   "cell_type": "code",
   "execution_count": 14,
   "metadata": {},
   "outputs": [],
   "source": [
    "import requests"
   ]
  },
  {
   "cell_type": "code",
   "execution_count": 15,
   "metadata": {},
   "outputs": [],
   "source": [
    "response = requests.get('http://iss.moex.com/iss/history/engines/stock/markets/shares/boards/tqbr/securities.xml')"
   ]
  },
  {
   "cell_type": "code",
   "execution_count": 16,
   "metadata": {},
   "outputs": [],
   "source": [
    "shares = ET.fromstring(response.content)"
   ]
  },
  {
   "cell_type": "code",
   "execution_count": 17,
   "metadata": {},
   "outputs": [
    {
     "data": {
      "text/plain": [
       "{'id': 'history'}"
      ]
     },
     "execution_count": 17,
     "metadata": {},
     "output_type": "execute_result"
    }
   ],
   "source": [
    "shares[0].attrib"
   ]
  },
  {
   "cell_type": "code",
   "execution_count": 18,
   "metadata": {},
   "outputs": [
    {
     "name": "stdout",
     "output_type": "stream",
     "text": [
      "column {'name': 'BOARDID', 'type': 'string', 'bytes': '12', 'max_size': '0'}\n",
      "column {'name': 'TRADEDATE', 'type': 'date', 'bytes': '10', 'max_size': '0'}\n",
      "column {'name': 'SHORTNAME', 'type': 'string', 'bytes': '189', 'max_size': '0'}\n",
      "column {'name': 'SECID', 'type': 'string', 'bytes': '36', 'max_size': '0'}\n",
      "column {'name': 'NUMTRADES', 'type': 'double'}\n",
      "column {'name': 'VALUE', 'type': 'double'}\n",
      "column {'name': 'OPEN', 'type': 'double'}\n",
      "column {'name': 'LOW', 'type': 'double'}\n",
      "column {'name': 'HIGH', 'type': 'double'}\n",
      "column {'name': 'LEGALCLOSEPRICE', 'type': 'double'}\n",
      "column {'name': 'WAPRICE', 'type': 'double'}\n",
      "column {'name': 'CLOSE', 'type': 'double'}\n",
      "column {'name': 'VOLUME', 'type': 'double'}\n",
      "column {'name': 'MARKETPRICE2', 'type': 'double'}\n",
      "column {'name': 'MARKETPRICE3', 'type': 'double'}\n",
      "column {'name': 'ADMITTEDQUOTE', 'type': 'double'}\n",
      "column {'name': 'MP2VALTRD', 'type': 'double'}\n",
      "column {'name': 'MARKETPRICE3TRADESVALUE', 'type': 'double'}\n",
      "column {'name': 'ADMITTEDVALUE', 'type': 'double'}\n",
      "column {'name': 'WAVAL', 'type': 'double'}\n",
      "column {'name': 'TRADINGSESSION', 'type': 'int32'}\n",
      "column {'name': 'INDEX', 'type': 'int64'}\n",
      "column {'name': 'TOTAL', 'type': 'int64'}\n",
      "column {'name': 'PAGESIZE', 'type': 'int64'}\n"
     ]
    }
   ],
   "source": [
    "for column in shares.iter('column'):\n",
    "    print(column.tag, column.attrib)"
   ]
  },
  {
   "cell_type": "code",
   "execution_count": 19,
   "metadata": {},
   "outputs": [
    {
     "data": {
      "text/plain": [
       "[<Element 'row' at 0x0000021508C7B368>,\n",
       " <Element 'row' at 0x0000021508C7B3B8>,\n",
       " <Element 'row' at 0x0000021508C7B408>,\n",
       " <Element 'row' at 0x0000021508C7B458>,\n",
       " <Element 'row' at 0x0000021508C7B4A8>,\n",
       " <Element 'row' at 0x0000021508C7B4F8>,\n",
       " <Element 'row' at 0x0000021508C7B548>,\n",
       " <Element 'row' at 0x0000021508C7B598>,\n",
       " <Element 'row' at 0x0000021508C7B5E8>,\n",
       " <Element 'row' at 0x0000021508C7B638>]"
      ]
     },
     "execution_count": 19,
     "metadata": {},
     "output_type": "execute_result"
    }
   ],
   "source": [
    "shares.findall('data/rows/row')[:10]"
   ]
  },
  {
   "cell_type": "code",
   "execution_count": 20,
   "metadata": {},
   "outputs": [
    {
     "name": "stdout",
     "output_type": "stream",
     "text": [
      "199\n",
      "5.68\n",
      "28.31\n",
      "69.6\n",
      "1225\n",
      "8700\n",
      "\n",
      "129.9\n",
      "22.075\n",
      "13.582\n",
      "550\n",
      "7.33\n",
      "1.049\n",
      "1150\n",
      "1557.5\n",
      "1170.5\n",
      "3519\n",
      "\n",
      "8.52\n",
      "15.26\n",
      "1228\n",
      "85.9\n",
      "20.2\n",
      "7.187\n",
      "\n",
      "37.4\n",
      "6080\n",
      "1591\n",
      "5840\n",
      "13.78\n",
      "9.82\n",
      "\n",
      "8.54\n",
      "135.98\n",
      "1.215\n",
      "2250\n",
      "1860\n",
      "7.32\n",
      "192.5\n",
      "\n",
      "977\n",
      "0.88\n",
      "113.78\n",
      "0.1985\n",
      "28.61\n",
      "2379\n",
      "646.7\n",
      "86.6\n",
      "503\n",
      "362.5\n",
      "\n",
      "365.01\n",
      "\n",
      "\n",
      "3252\n",
      "925.5\n",
      "1019.21\n",
      "593.85\n",
      "23102\n",
      "35.5\n",
      "\n",
      "3964\n",
      "\n",
      "12.56\n",
      "332.5\n",
      "0.8393\n",
      "1609\n",
      "1668\n",
      "1390\n",
      "5.0745\n",
      "16.4\n",
      "24.5\n",
      "88.69\n",
      "22.55\n",
      "19\n",
      "384\n",
      "412.8\n",
      "176.5\n",
      "0.207\n",
      "0.423\n",
      "51\n",
      "49.2\n",
      "14.59\n",
      "116.8\n",
      "1282\n",
      "\n",
      "54600\n",
      "12300\n",
      "15600\n",
      "\n",
      "12.08\n",
      "408\n",
      "329\n",
      "9.51\n",
      "9.78\n",
      "\n",
      "0.722\n",
      "0.368\n",
      "77.7\n",
      "0.02408\n"
     ]
    }
   ],
   "source": [
    "for el in shares.findall('data[1]/rows/row'):\n",
    "    print (el.attrib['OPEN'])"
   ]
  },
  {
   "cell_type": "code",
   "execution_count": 25,
   "metadata": {},
   "outputs": [],
   "source": [
    "# work with broken XML files\n",
    "import lxml.etree"
   ]
  },
  {
   "cell_type": "code",
   "execution_count": 26,
   "metadata": {},
   "outputs": [],
   "source": [
    "parser = lxml.etree.XMLParser(recover=True)"
   ]
  },
  {
   "cell_type": "code",
   "execution_count": 27,
   "metadata": {},
   "outputs": [],
   "source": [
    "# string misses closing mail tag\n",
    "\n",
    "xml_string = '''\n",
    "    <mail>\n",
    "      <to>Mark</to>\n",
    "      <from>Jani</from>\n",
    "      <heading>Reminder from Jani</heading>\n",
    "      <body>Hi, Mark! Remember we are meeting tomorrow at 5.</body>\n",
    "    '''"
   ]
  },
  {
   "cell_type": "code",
   "execution_count": 29,
   "metadata": {},
   "outputs": [],
   "source": [
    "xml = lxml.etree.fromstring(xml_string, parser)"
   ]
  },
  {
   "cell_type": "code",
   "execution_count": null,
   "metadata": {},
   "outputs": [],
   "source": []
  }
 ],
 "metadata": {
  "kernelspec": {
   "display_name": "Python 3 (ipykernel)",
   "language": "python",
   "name": "python3"
  },
  "language_info": {
   "codemirror_mode": {
    "name": "ipython",
    "version": 3
   },
   "file_extension": ".py",
   "mimetype": "text/x-python",
   "name": "python",
   "nbconvert_exporter": "python",
   "pygments_lexer": "ipython3",
   "version": "3.7.11"
  }
 },
 "nbformat": 4,
 "nbformat_minor": 4
}
