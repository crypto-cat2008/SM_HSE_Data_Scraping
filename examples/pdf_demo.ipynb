{
 "cells": [
  {
   "cell_type": "markdown",
   "metadata": {},
   "source": [
    "## 1. Get text from PDF"
   ]
  },
  {
   "cell_type": "code",
   "execution_count": 47,
   "metadata": {},
   "outputs": [],
   "source": [
    "import fitz  #PyMuPDF"
   ]
  },
  {
   "cell_type": "code",
   "execution_count": 48,
   "metadata": {},
   "outputs": [],
   "source": [
    "filename = 'file-sample_150kB.pdf'"
   ]
  },
  {
   "cell_type": "code",
   "execution_count": 49,
   "metadata": {},
   "outputs": [],
   "source": [
    "doc = fitz.open(filename) "
   ]
  },
  {
   "cell_type": "code",
   "execution_count": 50,
   "metadata": {},
   "outputs": [
    {
     "data": {
      "text/plain": [
       "fitz.fitz.Document"
      ]
     },
     "execution_count": 50,
     "metadata": {},
     "output_type": "execute_result"
    }
   ],
   "source": [
    "type(doc)"
   ]
  },
  {
   "cell_type": "code",
   "execution_count": 51,
   "metadata": {},
   "outputs": [
    {
     "data": {
      "text/plain": [
       "4"
      ]
     },
     "execution_count": 51,
     "metadata": {},
     "output_type": "execute_result"
    }
   ],
   "source": [
    "doc.pageCount"
   ]
  },
  {
   "cell_type": "code",
   "execution_count": 52,
   "metadata": {},
   "outputs": [
    {
     "data": {
      "text/plain": [
       "[[1,\n",
       "  'Lorem ipsum dolor sit amet, consectetur adipiscing elit. Nunc ac faucibus odio.',\n",
       "  1],\n",
       " [1, 'Cras fringilla ipsum magna, in fringilla dui commodo a.', 2],\n",
       " [1, 'Lorem ipsum dolor sit amet, consectetur adipiscing elit.', 3],\n",
       " [2,\n",
       "  'Maecenas mauris lectus, lobortis et purus mattis, blandit dictum tellus.',\n",
       "  3],\n",
       " [2, 'In eleifend velit vitae libero sollicitudin euismod.', 3]]"
      ]
     },
     "execution_count": 52,
     "metadata": {},
     "output_type": "execute_result"
    }
   ],
   "source": [
    "doc.get_toc()    # get table of content"
   ]
  },
  {
   "cell_type": "code",
   "execution_count": 53,
   "metadata": {},
   "outputs": [
    {
     "data": {
      "text/plain": [
       "'In non mauris justo. Duis vehicula mi vel mi pretium, a viverra erat efcitur. Cras aliquam\\nest ac eros varius, id iaculis dui auctor. Duis pretium neque ligula, et pulvinar mi placerat\\net. Nulla nec nunc sit amet nunc posuere vestibulum. Ut id neque eget tortor mattis\\ntristique. Donec ante est, blandit sit amet tristique vel, lacinia pulvinar arcu. Pellentesque\\nscelerisque fermentum erat, id posuere justo pulvinar ut. Cras id eros sed enim aliquam\\nlobortis. Sed lobortis nisl ut eros efcitur tincidunt. Cras justo mi, porttitor quis mattis vel,\\nultricies ut purus. Ut facilisis et lacus eu cursus.\\nIn eleifend velit vitae libero sollicitudin euismod. Fusce vitae vestibulum velit. Pellentesque\\nvulputate lectus quis pellentesque commodo. Aliquam erat volutpat. Vestibulum in egestas\\nvelit. Pellentesque fermentum nisl vitae fringilla venenatis. Etiam id mauris vitae orci\\nmaximus ultricies. \\nCras fringilla ipsum magna, in fringilla dui commodo \\na.\\nLorem ipsum\\nLorem ipsum\\nLorem ipsum\\n1\\nIn eleifend velit vitae libero sollicitudin euismod.\\nLorem\\n2\\nCras fringilla ipsum magna, in fringilla dui commodo\\na.\\nIpsum\\n3\\nAliquam erat volutpat. \\nLorem\\n4\\nFusce vitae vestibulum velit. \\nLorem\\n5\\nEtiam vehicula luctus fermentum.\\nIpsum\\nEtiam vehicula luctus fermentum. In vel metus congue, pulvinar lectus vel, fermentum dui.\\nMaecenas ante orci, egestas ut aliquet sit amet, sagittis a magna. Aliquam ante quam,\\npellentesque ut dignissim quis, laoreet eget est. Aliquam erat volutpat. Class aptent taciti\\nsociosqu ad litora torquent per conubia nostra, per inceptos himenaeos. Ut ullamcorper\\njusto sapien, in cursus libero viverra eget. Vivamus auctor imperdiet urna, at pulvinar leo\\nposuere laoreet. Suspendisse neque nisl, fringilla at iaculis scelerisque, ornare vel dolor. Ut\\net  pulvinar  nunc.  Pellentesque  fringilla  mollis  efcitur.  Nullam  venenatis  commodo\\nimperdiet. Morbi velit neque, semper quis lorem quis, efcitur dignissim ipsum. Ut ac lorem\\nsed turpis imperdiet eleifend sit amet id sapien.\\n'"
      ]
     },
     "execution_count": 53,
     "metadata": {},
     "output_type": "execute_result"
    }
   ],
   "source": [
    "doc.load_page(1).get_text()"
   ]
  },
  {
   "cell_type": "code",
   "execution_count": 54,
   "metadata": {},
   "outputs": [],
   "source": [
    "text = ''\n",
    "\n",
    "for page_num in range(doc.pageCount):\n",
    "    text += doc.load_page(page_num).get_text()"
   ]
  },
  {
   "cell_type": "code",
   "execution_count": 55,
   "metadata": {},
   "outputs": [
    {
     "name": "stdout",
     "output_type": "stream",
     "text": [
      "Lorem ipsum \n",
      "Lorem ipsum dolor sit amet, consectetur adipiscing \n",
      "elit. Nunc ac faucibus odio. \n",
      "Vestibulum neque massa, scelerisque sit amet ligula eu, congue molestie mi. Praesent ut\n",
      "varius sem. Nullam at porttitor arcu, nec lacinia nisi. Ut ac dolor vitae odio interdum\n",
      "condimentum.  Vivamus  dapibus  sodales  ex,  vitae  malesuada  ipsum  cursus\n",
      "convallis. Maecenas sed egestas nulla, ac condimentum orci.  Mauris diam felis,\n",
      "vulputate ac suscipit et, iaculis non est. Curabitur semper arcu ac ligula semper, nec luctus\n",
      "nisl blandit. Integer lacinia ante ac libero lobortis imperdiet. Nullam mollis convallis ipsum,\n",
      "ac accumsan nunc vehicula vitae. Nulla eget justo in felis tristique fringilla. Morbi sit amet\n",
      "tortor quis risus auctor condimentum. Morbi in ullamcorper elit. Nulla iaculis tellus sit amet\n",
      "mauris tempus fringilla.\n",
      "Maecenas mauris lectus, lobortis et purus mattis, blandit dictum tellus.\n",
      "\n",
      "Maecenas non lorem quis tellus placerat varius. \n",
      "\n",
      "Nulla facilisi. \n",
      "\n",
      "Aenean congue fringilla justo ut aliquam. \n",
      "\n",
      "Mauris id ex erat. Nunc vulputate neque vitae justo facilisis, non condimentum ante\n",
      "sagittis. \n",
      "\n",
      "Morbi viverra semper lorem nec molestie. \n",
      "\n",
      "Maecenas tincidunt est efcitur ligula euismod, sit amet ornare est vulputate.\n",
      "Row 1\n",
      "Row 2\n",
      "Row 3\n",
      "Row 4\n",
      "0\n",
      "2\n",
      "4\n",
      "6\n",
      "8\n",
      "10\n",
      "12\n",
      "Column 1\n",
      "Column 2\n",
      "Column 3\n",
      "In non mauris justo. Duis vehicula mi vel mi pretium, a viverra erat efcitur. Cras aliquam\n",
      "est ac eros varius, id iaculis dui auctor. Duis pretium neque ligula, et pulvinar mi placerat\n",
      "et. Nulla nec nunc sit amet nunc posuere vestibulum. Ut id neque eget tortor mattis\n",
      "tristique. Donec ante est, blandit sit amet tristique vel, lacinia pulvinar arcu. Pellentesque\n",
      "scelerisque fermentum erat, id posuere justo pulvinar ut. Cras id eros sed enim aliquam\n",
      "lobortis. Sed lobortis nisl ut eros efcitur tincidunt. Cras justo mi, porttitor quis mattis vel,\n",
      "ultricies ut purus. Ut facilisis et lacus eu cursus.\n",
      "In eleifend velit vitae libero sollicitudin euismod. Fusce vitae vestibulum velit. Pellentesque\n",
      "vulputate lectus quis pellentesque commodo. Aliquam erat volutpat. Vestibulum in egestas\n",
      "velit. Pellentesque fermentum nisl vitae fringilla venenatis. Etiam id mauris vitae orci\n",
      "maximus ultricies. \n",
      "Cras fringilla ipsum magna, in fringilla dui commodo \n",
      "a.\n",
      "Lorem ipsum\n",
      "Lorem ipsum\n",
      "Lorem ipsum\n",
      "1\n",
      "In eleifend velit vitae libero sollicitudin euismod.\n",
      "Lorem\n",
      "2\n",
      "Cras fringilla ipsum magna, in fringilla dui commodo\n",
      "a.\n",
      "Ipsum\n",
      "3\n",
      "Aliquam erat volutpat. \n",
      "Lorem\n",
      "4\n",
      "Fusce vitae vestibulum velit. \n",
      "Lorem\n",
      "5\n",
      "Etiam vehicula luctus fermentum.\n",
      "Ipsum\n",
      "Etiam vehicula luctus fermentum. In vel metus congue, pulvinar lectus vel, fermentum dui.\n",
      "Maecenas ante orci, egestas ut aliquet sit amet, sagittis a magna. Aliquam ante quam,\n",
      "pellentesque ut dignissim quis, laoreet eget est. Aliquam erat volutpat. Class aptent taciti\n",
      "sociosqu ad litora torquent per conubia nostra, per inceptos himenaeos. Ut ullamcorper\n",
      "justo sapien, in cursus libero viverra eget. Vivamus auctor imperdiet urna, at pulvinar leo\n",
      "posuere laoreet. Suspendisse neque nisl, fringilla at iaculis scelerisque, ornare vel dolor. Ut\n",
      "et  pulvinar  nunc.  Pellentesque  fringilla  mollis  efcitur.  Nullam  venenatis  commodo\n",
      "imperdiet. Morbi velit neque, semper quis lorem quis, efcitur dignissim ipsum. Ut ac lorem\n",
      "sed turpis imperdiet eleifend sit amet id sapien.\n",
      "Lorem ipsum dolor sit amet, consectetur adipiscing \n",
      "elit. \n",
      "Nunc ac faucibus odio. Vestibulum neque massa, scelerisque sit amet ligula eu, congue\n",
      "molestie mi. Praesent ut varius sem. Nullam at porttitor arcu, nec lacinia nisi. Ut ac dolor\n",
      "vitae odio interdum condimentum. Vivamus dapibus sodales ex, vitae malesuada ipsum\n",
      "cursus convallis. Maecenas sed egestas nulla, ac condimentum orci. Mauris diam felis,\n",
      "vulputate ac suscipit et, iaculis non est. Curabitur semper arcu ac ligula semper, nec luctus\n",
      "nisl blandit. Integer lacinia ante ac libero lobortis imperdiet. Nullam mollis convallis ipsum,\n",
      "ac accumsan nunc vehicula vitae. Nulla eget justo in felis tristique fringilla. Morbi sit amet\n",
      "tortor quis risus auctor condimentum. Morbi in ullamcorper elit. Nulla iaculis tellus sit amet\n",
      "mauris tempus fringilla.\n",
      "Maecenas mauris lectus, lobortis et purus mattis, blandit \n",
      "dictum tellus. \n",
      "Maecenas non lorem quis tellus placerat varius. Nulla facilisi. Aenean congue fringilla justo\n",
      "ut aliquam. Mauris id ex erat. Nunc vulputate neque vitae justo facilisis, non condimentum\n",
      "ante sagittis. Morbi viverra semper lorem nec molestie. Maecenas tincidunt est efcitur\n",
      "ligula euismod, sit amet ornare est vulputate.\n",
      "In non mauris justo. Duis vehicula mi vel mi pretium, a viverra erat efcitur. Cras aliquam\n",
      "est ac eros varius, id iaculis dui auctor. Duis pretium neque ligula, et pulvinar mi placerat\n",
      "et. Nulla nec nunc sit amet nunc posuere vestibulum. Ut id neque eget tortor mattis\n",
      "tristique. Donec ante est, blandit sit amet tristique vel, lacinia pulvinar arcu. Pellentesque\n",
      "scelerisque fermentum erat, id posuere justo pulvinar ut. Cras id eros sed enim aliquam\n",
      "lobortis. Sed lobortis nisl ut eros efcitur tincidunt. Cras justo mi, porttitor quis mattis vel,\n",
      "ultricies ut purus. Ut facilisis et lacus eu cursus.\n",
      "In eleifend velit vitae libero sollicitudin euismod. \n",
      "Fusce vitae vestibulum velit. Pellentesque vulputate lectus quis pellentesque commodo.\n",
      "Aliquam  erat volutpat.  Vestibulum  in  egestas  velit. Pellentesque  fermentum nisl  vitae\n",
      "fringilla  venenatis.  Etiam  id  mauris  vitae  orci  maximus  ultricies.  Cras  fringilla  ipsum\n",
      "magna, in fringilla dui commodo a.\n",
      "Etiam vehicula luctus fermentum. In vel metus congue, pulvinar lectus vel, fermentum dui.\n",
      "Maecenas ante orci, egestas ut aliquet sit amet, sagittis a magna. Aliquam ante quam,\n",
      "pellentesque ut dignissim quis, laoreet eget est. Aliquam erat volutpat. Class aptent taciti\n",
      "sociosqu ad litora torquent per conubia nostra, per inceptos himenaeos. Ut ullamcorper\n",
      "justo sapien, in cursus libero viverra eget. Vivamus auctor imperdiet urna, at pulvinar leo\n",
      "posuere laoreet. Suspendisse neque nisl, fringilla at iaculis scelerisque, ornare vel dolor. Ut\n",
      "et  pulvinar  nunc.  Pellentesque  fringilla  mollis  efcitur.  Nullam  venenatis  commodo\n",
      "imperdiet. Morbi velit neque, semper quis lorem quis, efcitur dignissim ipsum. Ut ac lorem\n",
      "sed turpis imperdiet eleifend sit amet id sapien.\n",
      "\n"
     ]
    }
   ],
   "source": [
    "print(text)"
   ]
  },
  {
   "cell_type": "markdown",
   "metadata": {},
   "source": [
    "## 2. Get pictures from PDF"
   ]
  },
  {
   "cell_type": "code",
   "execution_count": 56,
   "metadata": {},
   "outputs": [
    {
     "data": {
      "text/plain": [
       "[(13, 0, 600, 401, 8, 'DeviceRGB', '', 'Im13', 'DCTDecode')]"
      ]
     },
     "execution_count": 56,
     "metadata": {},
     "output_type": "execute_result"
    }
   ],
   "source": [
    "doc.get_page_images(3)"
   ]
  },
  {
   "cell_type": "code",
   "execution_count": 57,
   "metadata": {},
   "outputs": [
    {
     "name": "stdout",
     "output_type": "stream",
     "text": [
      "pic 3\n",
      "pic 3\n",
      "pic 3\n",
      "pic 3\n"
     ]
    }
   ],
   "source": [
    "for page_num in range(doc.pageCount):\n",
    "    \n",
    "    page = doc.load_page(page_num)\n",
    "    \n",
    "    for img in doc.get_page_images(page_num):\n",
    "        xref = img[0]\n",
    "        pix = fitz.Pixmap(doc, xref)\n",
    "        print('pic', pix.n)\n",
    "        pix.save(f'{page_num}.png')"
   ]
  },
  {
   "cell_type": "code",
   "execution_count": 58,
   "metadata": {},
   "outputs": [],
   "source": [
    "doc.close()"
   ]
  },
  {
   "cell_type": "markdown",
   "metadata": {},
   "source": [
    "## 3. Get pictures from PDF"
   ]
  },
  {
   "cell_type": "code",
   "execution_count": 59,
   "metadata": {},
   "outputs": [],
   "source": [
    "import tabula"
   ]
  },
  {
   "cell_type": "code",
   "execution_count": 60,
   "metadata": {},
   "outputs": [],
   "source": [
    "temp = tabula.read_pdf(filename, pages=2)"
   ]
  },
  {
   "cell_type": "code",
   "execution_count": 65,
   "metadata": {},
   "outputs": [
    {
     "name": "stdout",
     "output_type": "stream",
     "text": [
      "[   Unnamed: 0                                        Lorem ipsum  \\\n",
      "0         1.0  In eleifend velit vitae libero sollicitudin eu...   \n",
      "1         2.0  Cras fringilla ipsum magna, in fringilla dui c...   \n",
      "2         NaN                                                 a.   \n",
      "3         3.0                             Aliquam erat volutpat.   \n",
      "4         4.0                      Fusce vitae vestibulum velit.   \n",
      "5         5.0                   Etiam vehicula luctus fermentum.   \n",
      "\n",
      "  Lorem ipsum.1  Lorem ipsum.2  \n",
      "0         Lorem            NaN  \n",
      "1         Ipsum            NaN  \n",
      "2           NaN            NaN  \n",
      "3         Lorem            NaN  \n",
      "4         Lorem            NaN  \n",
      "5         Ipsum            NaN  ]\n"
     ]
    }
   ],
   "source": [
    "print(temp)"
   ]
  },
  {
   "cell_type": "code",
   "execution_count": null,
   "metadata": {},
   "outputs": [],
   "source": []
  }
 ],
 "metadata": {
  "kernelspec": {
   "display_name": "Python 3 (ipykernel)",
   "language": "python",
   "name": "python3"
  },
  "language_info": {
   "codemirror_mode": {
    "name": "ipython",
    "version": 3
   },
   "file_extension": ".py",
   "mimetype": "text/x-python",
   "name": "python",
   "nbconvert_exporter": "python",
   "pygments_lexer": "ipython3",
   "version": "3.7.11"
  }
 },
 "nbformat": 4,
 "nbformat_minor": 4
}
