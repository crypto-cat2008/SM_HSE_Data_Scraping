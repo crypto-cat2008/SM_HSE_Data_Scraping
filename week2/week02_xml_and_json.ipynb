{
 "cells": [
  {
   "cell_type": "markdown",
   "metadata": {},
   "source": [
    "# Parsing XML and JSON"
   ]
  },
  {
   "cell_type": "markdown",
   "metadata": {},
   "source": [
    "## Week 2. Practice Programming Assignment 1"
   ]
  },
  {
   "cell_type": "markdown",
   "metadata": {},
   "source": [
    "In this assignment you are provided with an XML file and JSON file. The files contain some information about stock prices from Moscow Stock Exchange. You will need to inspect the data to answer some questions. "
   ]
  },
  {
   "cell_type": "markdown",
   "metadata": {},
   "source": [
    "###### Import coursera grader tools"
   ]
  },
  {
   "cell_type": "code",
   "execution_count": 269,
   "metadata": {},
   "outputs": [],
   "source": [
    "import sys\n",
    "sys.path.append(\"..\")\n",
    "import grading\n",
    "grader = grading.Grader(assignment_key=\"Doyqa3BoSgahCPCmHnb8HA\", \n",
    "                      all_parts=[\"hcaCl\", \"xVJ1y\", \"wK84i\", \"7gJ6O\", \"KxRDE\",\n",
    "                                 \"PdSl8\", \"28ZKD\", \"vQHz0\", \"wGRXW\", \"KRfXm\"])"
   ]
  },
  {
   "cell_type": "code",
   "execution_count": 270,
   "metadata": {},
   "outputs": [],
   "source": [
    "# token expires every 30 min\n",
    "COURSERA_EMAIL = 'susanmalkin@gmail.com'\n",
    "COURSERA_TOKEN = 'Xd45nfKDmxcFq372'"
   ]
  },
  {
   "cell_type": "markdown",
   "metadata": {},
   "source": [
    "<br><br><br><br>"
   ]
  },
  {
   "cell_type": "markdown",
   "metadata": {},
   "source": [
    "### Part 1. XML"
   ]
  },
  {
   "cell_type": "markdown",
   "metadata": {},
   "source": [
    "You are provided with file `securities.xml`. Explore it to answer the quesionts."
   ]
  },
  {
   "cell_type": "markdown",
   "metadata": {},
   "source": [
    "**Question 1.** How many elements are in the XML file?"
   ]
  },
  {
   "cell_type": "code",
   "execution_count": 271,
   "metadata": {},
   "outputs": [
    {
     "name": "stdout",
     "output_type": "stream",
     "text": [
      "88\n"
     ]
    }
   ],
   "source": [
    "import xml.etree.ElementTree as ET\n",
    "\n",
    "count = 0\n",
    "\n",
    "doc = ET.parse('securities.xml')\n",
    "root = doc.getroot()\n",
    "\n",
    "for elem in root.iter():\n",
    "    # print(elem.tag, elem.attrib)\n",
    "    count += 1\n",
    "    \n",
    "print(count)\n",
    "\n",
    "answer_part_1 = count"
   ]
  },
  {
   "cell_type": "code",
   "execution_count": 272,
   "metadata": {},
   "outputs": [],
   "source": [
    "# Setting our answers to grader. Do not change!\n",
    "grader.set_answer(\"hcaCl\", answer_part_1)"
   ]
  },
  {
   "cell_type": "markdown",
   "metadata": {},
   "source": [
    "<br>\n",
    "\n",
    "**Question 2.** How many XML elements named 'row' are in the XML-file? "
   ]
  },
  {
   "cell_type": "code",
   "execution_count": 273,
   "metadata": {},
   "outputs": [
    {
     "name": "stdout",
     "output_type": "stream",
     "text": [
      "55\n"
     ]
    }
   ],
   "source": [
    "count = 0\n",
    "\n",
    "for elem in root.iter():\n",
    "    if elem.tag == 'row':\n",
    "        # print(elem.tag, elem.attrib)\n",
    "        count += 1\n",
    "    \n",
    "print(count)\n",
    "\n",
    "answer_part_2 = count"
   ]
  },
  {
   "cell_type": "code",
   "execution_count": 274,
   "metadata": {},
   "outputs": [],
   "source": [
    "# Setting our answers to grader. Do not change!\n",
    "grader.set_answer(\"xVJ1y\", answer_part_2)"
   ]
  },
  {
   "cell_type": "markdown",
   "metadata": {},
   "source": [
    "<br>\n",
    "\n",
    "**Question 3.** What is the height of the file's XML tree? \n",
    "\n",
    "<br>\n",
    "\n",
    "*Note:* By the height of the tree we mean the length of the longest sequence of nodes from root element to a leaf element. For example: let's look at the following XML:\n",
    "\n",
    "```\n",
    "<root>\n",
    "    <element1>\n",
    "        <some_element></some_element>\n",
    "    </element1>\n",
    "    <element_2></element_2>\n",
    "</root>\n",
    "```\n",
    "\n",
    "The height of the tree here is 3, since there are two sequences from root to leaf:\n",
    "\n",
    "1. `<root>` - `<element_1>` - `<some_element>`\n",
    "2. `<root>` - `<element_2>`\n",
    "\n",
    "The first sequence is the longest, and its length is 3."
   ]
  },
  {
   "cell_type": "code",
   "execution_count": 275,
   "metadata": {},
   "outputs": [
    {
     "name": "stdout",
     "output_type": "stream",
     "text": [
      "(<Element 'document' at 0x0000017AC85A8728>, 1)\n",
      "(<Element 'data' at 0x0000017AC858C9A8>, 2)\n",
      "(<Element 'metadata' at 0x0000017AC858C6D8>, 3)\n",
      "(<Element 'columns' at 0x0000017AC858C598>, 4)\n",
      "(<Element 'column' at 0x0000017AC742B818>, 5)\n",
      "(<Element 'column' at 0x0000017AC742B188>, 5)\n",
      "(<Element 'column' at 0x0000017AC8599EF8>, 5)\n",
      "(<Element 'column' at 0x0000017AC85994F8>, 5)\n",
      "(<Element 'column' at 0x0000017AC8599868>, 5)\n",
      "(<Element 'column' at 0x0000017AC85998B8>, 5)\n",
      "(<Element 'column' at 0x0000017AC7155048>, 5)\n",
      "(<Element 'column' at 0x0000017AC74409F8>, 5)\n",
      "(<Element 'column' at 0x0000017AC73C59A8>, 5)\n",
      "(<Element 'column' at 0x0000017AC73C5EF8>, 5)\n",
      "(<Element 'column' at 0x0000017AC73C53B8>, 5)\n",
      "(<Element 'column' at 0x0000017AC73C5188>, 5)\n",
      "(<Element 'column' at 0x0000017AC73C5DB8>, 5)\n",
      "(<Element 'column' at 0x0000017AC75A6B88>, 5)\n",
      "(<Element 'column' at 0x0000017AC75A64A8>, 5)\n",
      "(<Element 'column' at 0x0000017AC75A6CC8>, 5)\n",
      "(<Element 'column' at 0x0000017AC75A6E58>, 5)\n",
      "(<Element 'column' at 0x0000017AC75A61D8>, 5)\n",
      "(<Element 'column' at 0x0000017AC75A62C8>, 5)\n",
      "(<Element 'column' at 0x0000017AC75A60E8>, 5)\n",
      "(<Element 'column' at 0x0000017AC75A6818>, 5)\n",
      "(<Element 'rows' at 0x0000017AC75A6EF8>, 3)\n",
      "(<Element 'row' at 0x0000017AC75A6AE8>, 4)\n",
      "(<Element 'row' at 0x0000017AC75A6408>, 4)\n",
      "(<Element 'row' at 0x0000017AC7574C78>, 4)\n",
      "(<Element 'row' at 0x0000017AC75748B8>, 4)\n",
      "(<Element 'row' at 0x0000017AC7574548>, 4)\n",
      "(<Element 'row' at 0x0000017AC74FB0E8>, 4)\n",
      "(<Element 'row' at 0x0000017AC74FB408>, 4)\n",
      "(<Element 'row' at 0x0000017AC74FBC78>, 4)\n",
      "(<Element 'row' at 0x0000017AC74FB4A8>, 4)\n",
      "(<Element 'row' at 0x0000017AC7447A48>, 4)\n",
      "(<Element 'row' at 0x0000017AC7391EA8>, 4)\n",
      "(<Element 'row' at 0x0000017AC74DBCC8>, 4)\n",
      "(<Element 'row' at 0x0000017AC74DBC78>, 4)\n",
      "(<Element 'row' at 0x0000017AC74DBEF8>, 4)\n",
      "(<Element 'row' at 0x0000017AC74DBD18>, 4)\n",
      "(<Element 'row' at 0x0000017AC74DB408>, 4)\n",
      "(<Element 'row' at 0x0000017AC7439408>, 4)\n",
      "(<Element 'row' at 0x0000017AC7439DB8>, 4)\n",
      "(<Element 'row' at 0x0000017AC7439A98>, 4)\n",
      "(<Element 'row' at 0x0000017AC7439228>, 4)\n",
      "(<Element 'row' at 0x0000017AC75014F8>, 4)\n",
      "(<Element 'row' at 0x0000017AC7501318>, 4)\n",
      "(<Element 'row' at 0x0000017AC7501EF8>, 4)\n",
      "(<Element 'row' at 0x0000017AC7501188>, 4)\n",
      "(<Element 'row' at 0x0000017AC7501A98>, 4)\n",
      "(<Element 'row' at 0x0000017AC7501778>, 4)\n",
      "(<Element 'row' at 0x0000017AC75017C8>, 4)\n",
      "(<Element 'row' at 0x0000017AC7501E58>, 4)\n",
      "(<Element 'row' at 0x0000017AC7501F48>, 4)\n",
      "(<Element 'row' at 0x0000017AC7501A48>, 4)\n",
      "(<Element 'row' at 0x0000017AC7501638>, 4)\n",
      "(<Element 'row' at 0x0000017AC7501CC8>, 4)\n",
      "(<Element 'row' at 0x0000017AC7501368>, 4)\n",
      "(<Element 'row' at 0x0000017AC858A228>, 4)\n",
      "(<Element 'row' at 0x0000017AC858A598>, 4)\n",
      "(<Element 'row' at 0x0000017AC858A098>, 4)\n",
      "(<Element 'row' at 0x0000017AC858AEA8>, 4)\n",
      "(<Element 'row' at 0x0000017AC858ACC8>, 4)\n",
      "(<Element 'row' at 0x0000017AC858AF98>, 4)\n",
      "(<Element 'row' at 0x0000017AC858ADB8>, 4)\n",
      "(<Element 'row' at 0x0000017AC858AEF8>, 4)\n",
      "(<Element 'row' at 0x0000017AC858A408>, 4)\n",
      "(<Element 'row' at 0x0000017AC858A4A8>, 4)\n",
      "(<Element 'row' at 0x0000017AC858AB38>, 4)\n",
      "(<Element 'row' at 0x0000017AC858AA98>, 4)\n",
      "(<Element 'row' at 0x0000017AC858AC28>, 4)\n",
      "(<Element 'row' at 0x0000017AC858AC78>, 4)\n",
      "(<Element 'row' at 0x0000017AC8596C78>, 4)\n",
      "(<Element 'row' at 0x0000017AC8596778>, 4)\n",
      "(<Element 'row' at 0x0000017AC8596728>, 4)\n",
      "(<Element 'row' at 0x0000017AC8596278>, 4)\n",
      "(<Element 'row' at 0x0000017AC8596CC8>, 4)\n",
      "(<Element 'row' at 0x0000017AC8596318>, 4)\n",
      "(<Element 'row' at 0x0000017AC8596098>, 4)\n",
      "(<Element 'data' at 0x0000017AC8596EA8>, 2)\n",
      "(<Element 'metadata' at 0x0000017AC74EB778>, 3)\n",
      "(<Element 'columns' at 0x0000017AC74EB1D8>, 4)\n",
      "(<Element 'column' at 0x0000017AC74EB598>, 5)\n",
      "(<Element 'column' at 0x0000017AC74EB4F8>, 5)\n",
      "(<Element 'column' at 0x0000017AC74EBAE8>, 5)\n",
      "(<Element 'rows' at 0x0000017AC720B9A8>, 3)\n",
      "(<Element 'row' at 0x0000017AC720B728>, 4)\n"
     ]
    }
   ],
   "source": [
    "def depth_iter(element, tag=None):\n",
    "    stack = []\n",
    "    stack.append(iter([element]))\n",
    "    while stack:\n",
    "        e = next(stack[-1], None)\n",
    "        if e == None:\n",
    "            stack.pop()\n",
    "        else:\n",
    "            stack.append(iter(e))\n",
    "            if tag == None or e.tag == tag:\n",
    "                yield (e, len(stack) - 1)\n",
    "                \n",
    "for child in depth_iter(root):\n",
    "    print(child)\n",
    "\n",
    "\n",
    "answer_part_3 = 5"
   ]
  },
  {
   "cell_type": "code",
   "execution_count": 276,
   "metadata": {},
   "outputs": [],
   "source": [
    "# Setting our answers to grader. Do not change!\n",
    "grader.set_answer(\"wK84i\", answer_part_3)"
   ]
  },
  {
   "cell_type": "markdown",
   "metadata": {},
   "source": [
    "<br>\n",
    "\n",
    "Each `row` element contains data about some stock in its attribute values. For example, attributes CLOSE and OPEN stand for close price and open price for a stock in this day accordingly. Attribute VOLUME stands for total trade volume of the stock in this particular day.\n",
    "\n",
    "**Question 4.** What is average value of a difference between CLOSE and OPEN prices among all stocks present? \n",
    "\n",
    "*Note:* If a stock doesn't have data about its CLOSE and OPEN prices, skip it."
   ]
  },
  {
   "cell_type": "code",
   "execution_count": 277,
   "metadata": {},
   "outputs": [
    {
     "name": "stdout",
     "output_type": "stream",
     "text": [
      "-81.72016052499997\n"
     ]
    }
   ],
   "source": [
    "prices = doc.findall('data/rows/row')\n",
    "n = 0\n",
    "price_sum = 0\n",
    "\n",
    "for price in prices:\n",
    "    open_p = price.get('OPEN')\n",
    "    close_p = price.get('CLOSE') \n",
    "    # print(open_p, close_p)\n",
    "    \n",
    "    try:\n",
    "        open_p_f = float(open_p)\n",
    "        close_p_f = float(close_p)\n",
    "        price_sum += (close_p_f - open_p_f)\n",
    "        n += 1\n",
    "        # print('converted:', open_p_f, close_p_f)\n",
    "    except:\n",
    "        continue\n",
    "        \n",
    "avrg = price_sum / n\n",
    "print(avrg)\n",
    "\n",
    "answer_part_4 = avrg"
   ]
  },
  {
   "cell_type": "code",
   "execution_count": 278,
   "metadata": {},
   "outputs": [],
   "source": [
    "# Setting our answers to grader. Do not change!\n",
    "grader.set_answer(\"7gJ6O\", answer_part_4)"
   ]
  },
  {
   "cell_type": "markdown",
   "metadata": {},
   "source": [
    "<br>\n",
    "\n",
    "**Question 5.** What is the value of largest VOLUME among all stocks present? "
   ]
  },
  {
   "cell_type": "code",
   "execution_count": 279,
   "metadata": {},
   "outputs": [
    {
     "name": "stdout",
     "output_type": "stream",
     "text": [
      "63615300000\n"
     ]
    }
   ],
   "source": [
    "max_vol = 0\n",
    "\n",
    "for price in prices:\n",
    "    vol = price.get('VOLUME')\n",
    "    # print(vol)\n",
    "    \n",
    "    try:\n",
    "        vol_i = int(vol)\n",
    "        if max_vol < vol_i:\n",
    "            max_vol = vol_i\n",
    "        # print('converted:', vol_i)\n",
    "    except:\n",
    "        continue\n",
    "        \n",
    "print(max_vol)\n",
    "\n",
    "answer_part_5 = max_vol"
   ]
  },
  {
   "cell_type": "code",
   "execution_count": 280,
   "metadata": {},
   "outputs": [],
   "source": [
    "# Setting our answers to grader. Do not change!\n",
    "grader.set_answer(\"KxRDE\", answer_part_5)"
   ]
  },
  {
   "cell_type": "markdown",
   "metadata": {},
   "source": [
    "<br><br><br><br><br>"
   ]
  },
  {
   "cell_type": "markdown",
   "metadata": {},
   "source": [
    "### Part 2. JSON"
   ]
  },
  {
   "cell_type": "markdown",
   "metadata": {},
   "source": [
    "You are provided with file `securities.json`. It also has some information about stocks, but It has a slightly different structure. Explore it to answer the quesionts.\n",
    "\n",
    "*Note:* `data`-element in the file containts rows with data values. To see names for these values (what data value means what) you need to check element `securities['history']['columns']`\n",
    "\n",
    "<br>"
   ]
  },
  {
   "cell_type": "markdown",
   "metadata": {},
   "source": [
    "\n",
    "\n",
    "**Question 6.** What is the height of the file's JSON tree? \n",
    "\n",
    "*Note:* By the height of the tree we mean the length of the longest sequence of nodes from root element to a leaf element (similar to the height of an XML defined in Question 3)"
   ]
  },
  {
   "cell_type": "code",
   "execution_count": 281,
   "metadata": {},
   "outputs": [
    {
     "name": "stdout",
     "output_type": "stream",
     "text": [
      "metadata\n",
      "columns\n",
      "data\n",
      "4\n"
     ]
    }
   ],
   "source": [
    "import json\n",
    "\n",
    "\n",
    "with open('securities.json', encoding='utf-8') as f:\n",
    "    result = json.load(f)\n",
    "    for k in result['history.cursor'].keys():\n",
    "        print(k)\n",
    "        \n",
    "def depth(x):\n",
    "    if type(x) is dict and x:\n",
    "        return 1 + max(depth(x[a]) for a in x)\n",
    "    if type(x) is list and x:\n",
    "        return 1 + max(depth(a) for a in x)\n",
    "    return 0\n",
    "\n",
    "print(depth(result))\n",
    "\n",
    "\n",
    "answer_part_6 = 5"
   ]
  },
  {
   "cell_type": "code",
   "execution_count": 282,
   "metadata": {},
   "outputs": [],
   "source": [
    "# Setting our answers to grader. Do not change!\n",
    "grader.set_answer(\"PdSl8\", answer_part_6)"
   ]
  },
  {
   "cell_type": "markdown",
   "metadata": {},
   "source": [
    "<br>\n",
    "\n",
    "**Question 7.** How many branches does `data` element have? "
   ]
  },
  {
   "cell_type": "code",
   "execution_count": 283,
   "metadata": {},
   "outputs": [
    {
     "name": "stdout",
     "output_type": "stream",
     "text": [
      "63\n"
     ]
    }
   ],
   "source": [
    "print(len(result['history']['data']))\n",
    "\n",
    "answer_part_7 = 63"
   ]
  },
  {
   "cell_type": "code",
   "execution_count": 284,
   "metadata": {},
   "outputs": [],
   "source": [
    "# Setting our answers to grader. Do not change!\n",
    "grader.set_answer(\"28ZKD\", answer_part_7)"
   ]
  },
  {
   "cell_type": "markdown",
   "metadata": {},
   "source": [
    "<br>\n",
    "\n",
    "**Question 8.** What is the average value of a difference between HIGH and LOW prices? \n",
    "\n",
    "*Note:* If a stock doesn't have data about its HIGH and LOW prices, skip it."
   ]
  },
  {
   "cell_type": "code",
   "execution_count": 285,
   "metadata": {},
   "outputs": [
    {
     "name": "stdout",
     "output_type": "stream",
     "text": [
      "15.93157894736842\n"
     ]
    }
   ],
   "source": [
    "price_sum = 0\n",
    "n = 0\n",
    "\n",
    "for i in result['history']['data']:\n",
    "    \n",
    "    try:\n",
    "        price_h = float(i[7])\n",
    "        price_l = float(i[8])\n",
    "        # print('converted:', price_h, price_l)\n",
    "        price_sum += price_h - price_l\n",
    "        n += 1\n",
    "    except:\n",
    "        continue\n",
    "        \n",
    "print(price_sum/n)\n",
    "\n",
    "answer_part_8 = price_sum/n"
   ]
  },
  {
   "cell_type": "code",
   "execution_count": 286,
   "metadata": {},
   "outputs": [],
   "source": [
    "# Setting our answers to grader. Do not change!\n",
    "grader.set_answer(\"vQHz0\", answer_part_8)"
   ]
  },
  {
   "cell_type": "markdown",
   "metadata": {},
   "source": [
    "<br>\n",
    "\n",
    "**Question 9.** How many unique values of BOARDID do we see in data? "
   ]
  },
  {
   "cell_type": "code",
   "execution_count": 287,
   "metadata": {},
   "outputs": [
    {
     "name": "stdout",
     "output_type": "stream",
     "text": [
      "2\n"
     ]
    }
   ],
   "source": [
    "values_set = set()\n",
    "\n",
    "for i in result['history']['data']:\n",
    "    # print(i[0])\n",
    "    values_set.add(i[0])\n",
    "    \n",
    "print(len(values_set))\n",
    "\n",
    "answer_part_9 = 2"
   ]
  },
  {
   "cell_type": "code",
   "execution_count": 288,
   "metadata": {},
   "outputs": [],
   "source": [
    "# Setting our answers to grader. Do not change!\n",
    "grader.set_answer(\"wGRXW\", answer_part_9)"
   ]
  },
  {
   "cell_type": "markdown",
   "metadata": {},
   "source": [
    "<br>\n",
    "\n",
    "**Question 10.** What value of BOARDID is the most occuring?  "
   ]
  },
  {
   "cell_type": "code",
   "execution_count": 289,
   "metadata": {},
   "outputs": [
    {
     "name": "stdout",
     "output_type": "stream",
     "text": [
      "Counter({'SNDX': 33, 'RTSI': 30})\n"
     ]
    }
   ],
   "source": [
    "from collections import Counter\n",
    "\n",
    "values_list = []\n",
    "\n",
    "for i in result['history']['data']:\n",
    "    # print(i[0])\n",
    "    values_list.append(i[0])\n",
    "    \n",
    "print(Counter(values_list))\n",
    "\n",
    "\n",
    "answer_part_10 = 'SNDX'"
   ]
  },
  {
   "cell_type": "code",
   "execution_count": 290,
   "metadata": {},
   "outputs": [],
   "source": [
    "# Setting our answers to grader. Do not change!\n",
    "grader.set_answer(\"KRfXm\", answer_part_10)"
   ]
  },
  {
   "cell_type": "markdown",
   "metadata": {},
   "source": [
    "<br>\n",
    "<br>\n",
    "\n",
    "### Submitting answers"
   ]
  },
  {
   "cell_type": "code",
   "execution_count": 291,
   "metadata": {},
   "outputs": [
    {
     "name": "stdout",
     "output_type": "stream",
     "text": [
      "Submitted to Coursera platform. See results on assignment page!\n"
     ]
    }
   ],
   "source": [
    "# you can make submission with answers so far to check yourself at this stage\n",
    "grader.submit(COURSERA_EMAIL, COURSERA_TOKEN)"
   ]
  },
  {
   "cell_type": "code",
   "execution_count": null,
   "metadata": {},
   "outputs": [],
   "source": []
  }
 ],
 "metadata": {
  "kernelspec": {
   "display_name": "Python 3 (ipykernel)",
   "language": "python",
   "name": "python3"
  },
  "language_info": {
   "codemirror_mode": {
    "name": "ipython",
    "version": 3
   },
   "file_extension": ".py",
   "mimetype": "text/x-python",
   "name": "python",
   "nbconvert_exporter": "python",
   "pygments_lexer": "ipython3",
   "version": "3.7.11"
  }
 },
 "nbformat": 4,
 "nbformat_minor": 4
}
